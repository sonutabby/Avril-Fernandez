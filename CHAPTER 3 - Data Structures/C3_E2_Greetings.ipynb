{
  "nbformat": 4,
  "nbformat_minor": 0,
  "metadata": {
    "colab": {
      "provenance": [],
      "collapsed_sections": []
    },
    "kernelspec": {
      "name": "python3",
      "display_name": "Python 3"
    },
    "language_info": {
      "name": "python"
    }
  },
  "cells": [
    {
      "cell_type": "code",
      "execution_count": 1,
      "metadata": {
        "colab": {
          "base_uri": "https://localhost:8080/"
        },
        "id": "faRsRLHGj4Za",
        "outputId": "c10dbdba-34f4-4e4a-dbb3-5e4f58074985"
      },
      "outputs": [
        {
          "output_type": "stream",
          "name": "stdout",
          "text": [
            "Hi! How are you, Nichole?\n",
            "Hi! How are you, Marlvienne?\n",
            "Hi! How are you, Brendel?\n"
          ]
        }
      ],
      "source": [
        "#store the names of a few of my friends in a list called names\n",
        "names = ['Nichole', 'Marlvienne', 'Brendel']\n",
        "#Greet each friend by their names\n",
        "print(\"Hi! How are you, \" + names[0].title() + \"?\")\n",
        "print(\"Hi! How are you, \" + names[1].title() + \"?\")\n",
        "print(\"Hi! How are you, \" + names[2].title() + \"?\")"
      ]
    }
  ]
}
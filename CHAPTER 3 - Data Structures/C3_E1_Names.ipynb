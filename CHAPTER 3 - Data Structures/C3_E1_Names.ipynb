{
  "nbformat": 4,
  "nbformat_minor": 0,
  "metadata": {
    "colab": {
      "provenance": [],
      "collapsed_sections": []
    },
    "kernelspec": {
      "name": "python3",
      "display_name": "Python 3"
    },
    "language_info": {
      "name": "python"
    }
  },
  "cells": [
    {
      "cell_type": "code",
      "source": [
        "#person’s name by accessing each element in the list\n",
        "Names = [\"Nichole\", \"Marlvienne\", \"Brendel\"] #string list\n",
        "print(Names[0]) \n",
        "print(Names[1])\n",
        "print(Names[2])"
      ],
      "metadata": {
        "colab": {
          "base_uri": "https://localhost:8080/"
        },
        "id": "Znh2gAWph4LT",
        "outputId": "dd3226ac-cae6-4793-847b-580434331a2e"
      },
      "execution_count": 6,
      "outputs": [
        {
          "output_type": "stream",
          "name": "stdout",
          "text": [
            "Nichole\n",
            "Marlvienne\n",
            "Brendel\n"
          ]
        }
      ]
    }
  ]
}
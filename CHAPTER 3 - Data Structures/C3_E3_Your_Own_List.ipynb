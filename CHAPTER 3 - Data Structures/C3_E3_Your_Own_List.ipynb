{
  "nbformat": 4,
  "nbformat_minor": 0,
  "metadata": {
    "colab": {
      "provenance": []
    },
    "kernelspec": {
      "name": "python3",
      "display_name": "Python 3"
    },
    "language_info": {
      "name": "python"
    }
  },
  "cells": [
    {
      "cell_type": "code",
      "execution_count": 1,
      "metadata": {
        "colab": {
          "base_uri": "https://localhost:8080/"
        },
        "id": "bpBdyZJ_ksVR",
        "outputId": "8a8ef188-97af-4a91-e805-a4a0b6992029"
      },
      "outputs": [
        {
          "output_type": "stream",
          "name": "stdout",
          "text": [
            "My dream car is Ferrari!\n",
            "My dream car is Mustang!\n",
            "My dream car is Lamborghini!\n"
          ]
        }
      ],
      "source": [
        "#store names of your favorite car/transportation \n",
        "names = ['Ferrari', 'Mustang', 'Lamborghini']\n",
        "print(\"My dream car is \" + names[0].title() + \"!\")\n",
        "print(\"My dream car is \" + names[1].title() + \"!\")\n",
        "print(\"My dream car is \" + names[2].title() + \"!\")"
      ]
    }
  ]
}
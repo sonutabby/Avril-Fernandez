{
  "nbformat": 4,
  "nbformat_minor": 0,
  "metadata": {
    "colab": {
      "provenance": [],
      "collapsed_sections": []
    },
    "kernelspec": {
      "name": "python3",
      "display_name": "Python 3"
    },
    "language_info": {
      "name": "python"
    }
  },
  "cells": [
    {
      "cell_type": "code",
      "execution_count": 2,
      "metadata": {
        "id": "iRvfPfZi5oZc",
        "colab": {
          "base_uri": "https://localhost:8080/"
        },
        "outputId": "33a8cef7-0082-4ac0-ba94-adbe8449d518"
      },
      "outputs": [
        {
          "output_type": "stream",
          "name": "stdout",
          "text": [
            "['Korea', 'Japan', 'Singapore', 'France', 'Thailand']\n",
            "['France', 'Japan', 'Korea', 'Singapore', 'Thailand']\n",
            "['Canada', 'Philippines', 'Russia', 'United Kingdom', 'Maldives']\n",
            "['Maldives', 'United Kingdom', 'Russia', 'Philippines', 'Canada']\n"
          ]
        }
      ],
      "source": [
        "#5 places you would like to visit\n",
        "\n",
        "location = ['Korea','Japan','Singapore','France','Thailand']\n",
        "print(location)\n",
        "location.sort()\n",
        "print(location)\n",
        "\n",
        "location = ['Canada','Philippines','Russia','United Kingdom','Maldives']\n",
        "print(location)\n",
        "location.reverse()\n",
        "print(location)"
      ]
    }
  ]
}
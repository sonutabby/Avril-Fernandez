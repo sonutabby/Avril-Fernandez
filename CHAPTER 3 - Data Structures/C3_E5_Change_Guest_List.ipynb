{
  "nbformat": 4,
  "nbformat_minor": 0,
  "metadata": {
    "colab": {
      "provenance": [],
      "collapsed_sections": []
    },
    "kernelspec": {
      "name": "python3",
      "display_name": "Python 3"
    },
    "language_info": {
      "name": "python"
    }
  },
  "cells": [
    {
      "cell_type": "code",
      "source": [
        "#inviting 3 people\n",
        "names = ['Amir','Amiel','Atasha']\n",
        "#invite them to dinner\n",
        "print(\"Are you available for dinner, \" + names[0].title() + \"?\")\n",
        "print(\"Are you available for dinner, \" + names[1].title() + \"?\")\n",
        "print(\"Are you available for dinner, \" + names[2].title() + \"?\")\n",
        "\n",
        "print(names[2], 'cant come to the dinner')\n",
        "\n",
        "#relplacing the guest\n",
        "names[2]='Eliezer'\n",
        "print(names)\n",
        "print(\"Are you available for dinner, \" + names[0].title() + \"?\")\n",
        "print(\"Are you available for dinner, \" + names[1].title() + \"?\")\n",
        "print(\"Are you available for dinner, \" + names[2].title() + \"?\")"
      ],
      "metadata": {
        "colab": {
          "base_uri": "https://localhost:8080/"
        },
        "id": "029J-EEBxiwp",
        "outputId": "2bbec815-610a-4349-d9a5-01931c7a66e1"
      },
      "execution_count": 2,
      "outputs": [
        {
          "output_type": "stream",
          "name": "stdout",
          "text": [
            "Are you available for dinner, Amir?\n",
            "Are you available for dinner, Amiel?\n",
            "Are you available for dinner, Atasha?\n",
            "Atasha cant come to the dinner\n",
            "['Amir', 'Amiel', 'Eliezer']\n",
            "Are you available for dinner, Amir?\n",
            "Are you available for dinner, Amiel?\n",
            "Are you available for dinner, Eliezer?\n"
          ]
        }
      ]
    }
  ]
}
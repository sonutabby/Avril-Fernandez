{
  "nbformat": 4,
  "nbformat_minor": 0,
  "metadata": {
    "colab": {
      "provenance": [],
      "collapsed_sections": []
    },
    "kernelspec": {
      "name": "python3",
      "display_name": "Python 3"
    },
    "language_info": {
      "name": "python"
    }
  },
  "cells": [
    {
      "cell_type": "code",
      "source": [
        "#inviting 3 people\n",
        "name = ['Amir','Amiel','Atasha']\n",
        "#invite them to dinner\n",
        "print(\"Are you available for dinner, \" + name[0].title() + \"?\")\n",
        "print(\"Are you available for dinner, \" + name[1].title() + \"?\")\n",
        "print(\"Are you available for dinner, \" + name[2].title() + \"?\")"
      ],
      "metadata": {
        "colab": {
          "base_uri": "https://localhost:8080/"
        },
        "id": "qNLjopO9rg4D",
        "outputId": "34594b6e-d77e-470b-d866-a8f07b9a0ec5"
      },
      "execution_count": 1,
      "outputs": [
        {
          "output_type": "stream",
          "name": "stdout",
          "text": [
            "Are you available for dinner, Amir?\n",
            "Are you available for dinner, Amiel?\n",
            "Are you available for dinner, Atasha?\n"
          ]
        }
      ]
    }
  ]
}
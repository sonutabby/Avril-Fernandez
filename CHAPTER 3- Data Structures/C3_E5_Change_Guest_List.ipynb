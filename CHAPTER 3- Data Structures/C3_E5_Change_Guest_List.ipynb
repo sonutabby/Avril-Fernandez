{
  "nbformat": 4,
  "nbformat_minor": 0,
  "metadata": {
    "colab": {
      "provenance": [],
      "collapsed_sections": []
    },
    "kernelspec": {
      "name": "python3",
      "display_name": "Python 3"
    },
    "language_info": {
      "name": "python"
    }
  },
  "cells": [
    {
      "cell_type": "code",
      "source": [
        "#Inviting 3 people\n",
        "names = ['Amir','Amiel','Atasha']\n",
        "#Invite them to attend the dinner\n",
        "print(\"Are you available for dinner, \" + names[0].title() + \"?\")\n",
        "print(\"Are you available for dinner, \" + names[1].title() + \"?\")\n",
        "print(\"Are you available for dinner, \" + names[2].title() + \"?\")\n",
        "\n",
        "print(names[2], 'cant come to the dinner')\n",
        "\n",
        "#Replacing the guest because one of your guest list can't make it to dinner.\n",
        "names[2]='Eliezer'\n",
        "print(names)\n",
        "print(\"Are you available for dinner, \" + names[0].title() + \"?\")\n",
        "print(\"Are you available for dinner, \" + names[1].title() + \"?\")\n",
        "print(\"Are you available for dinner, \" + names[2].title() + \"?\")"
      ],
      "metadata": {
        "colab": {
          "base_uri": "https://localhost:8080/"
        },
        "id": "029J-EEBxiwp",
        "outputId": "2f19b043-2f4c-4922-8bb4-a8f649e16786"
      },
      "execution_count": 1,
      "outputs": [
        {
          "output_type": "stream",
          "name": "stdout",
          "text": [
            "Are you available for dinner, Amir?\n",
            "Are you available for dinner, Amiel?\n",
            "Are you available for dinner, Atasha?\n",
            "Atasha cant come to the dinner\n",
            "['Amir', 'Amiel', 'Eliezer']\n",
            "Are you available for dinner, Amir?\n",
            "Are you available for dinner, Amiel?\n",
            "Are you available for dinner, Eliezer?\n"
          ]
        }
      ]
    }
  ]
}
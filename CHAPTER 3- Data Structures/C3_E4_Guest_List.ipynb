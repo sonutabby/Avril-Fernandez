{
  "nbformat": 4,
  "nbformat_minor": 0,
  "metadata": {
    "colab": {
      "provenance": [],
      "collapsed_sections": []
    },
    "kernelspec": {
      "name": "python3",
      "display_name": "Python 3"
    },
    "language_info": {
      "name": "python"
    }
  },
  "cells": [
    {
      "cell_type": "code",
      "source": [
        "#Inviting 3 people to dinner\n",
        "name = ['Amir','Amiel','Atasha']\n",
        "\n",
        "#Invite them to attend the dinner\n",
        "print(\"Are you available for dinner, \" + name[0].title() + \"?\")\n",
        "print(\"Are you available for dinner, \" + name[1].title() + \"?\")\n",
        "print(\"Are you available for dinner, \" + name[2].title() + \"?\")"
      ],
      "metadata": {
        "colab": {
          "base_uri": "https://localhost:8080/"
        },
        "id": "qNLjopO9rg4D",
        "outputId": "b9b8bf11-e7cf-4cfc-a0d8-6d9d7e739470"
      },
      "execution_count": 1,
      "outputs": [
        {
          "output_type": "stream",
          "name": "stdout",
          "text": [
            "Are you available for dinner, Amir?\n",
            "Are you available for dinner, Amiel?\n",
            "Are you available for dinner, Atasha?\n"
          ]
        }
      ]
    }
  ]
}
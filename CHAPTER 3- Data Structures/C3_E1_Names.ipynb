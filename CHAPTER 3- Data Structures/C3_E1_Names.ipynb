{
  "nbformat": 4,
  "nbformat_minor": 0,
  "metadata": {
    "colab": {
      "provenance": [],
      "collapsed_sections": []
    },
    "kernelspec": {
      "name": "python3",
      "display_name": "Python 3"
    },
    "language_info": {
      "name": "python"
    }
  },
  "cells": [
    {
      "cell_type": "code",
      "source": [
        "#A persons name by accessing each element in the list, storing names of your friend.\n",
        "Names = [\"Nichole\", \"Marlvienne\", \"Brendel\"] #This is the string list\n",
        "print(Names[0]) \n",
        "print(Names[1])\n",
        "print(Names[2])"
      ],
      "metadata": {
        "colab": {
          "base_uri": "https://localhost:8080/"
        },
        "id": "Znh2gAWph4LT",
        "outputId": "fdcc9e87-9152-401a-9fa9-06cbef55416a"
      },
      "execution_count": 2,
      "outputs": [
        {
          "output_type": "stream",
          "name": "stdout",
          "text": [
            "Nichole\n",
            "Marlvienne\n",
            "Brendel\n"
          ]
        }
      ]
    }
  ]
}
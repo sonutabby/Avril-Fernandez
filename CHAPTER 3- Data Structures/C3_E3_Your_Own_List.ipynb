{
  "nbformat": 4,
  "nbformat_minor": 0,
  "metadata": {
    "colab": {
      "provenance": []
    },
    "kernelspec": {
      "name": "python3",
      "display_name": "Python 3"
    },
    "language_info": {
      "name": "python"
    }
  },
  "cells": [
    {
      "cell_type": "code",
      "execution_count": 1,
      "metadata": {
        "colab": {
          "base_uri": "https://localhost:8080/"
        },
        "id": "bpBdyZJ_ksVR",
        "outputId": "91432955-98a1-4f72-ffa8-d6d7f8c048ee"
      },
      "outputs": [
        {
          "output_type": "stream",
          "name": "stdout",
          "text": [
            "My dream car is Ferrari!\n",
            "My dream car is Mustang!\n",
            "My dream car is Lamborghini!\n"
          ]
        }
      ],
      "source": [
        "#Store the names of your favorite car or transportation\n",
        "names = ['Ferrari', 'Mustang', 'Lamborghini']\n",
        "print(\"My dream car is \" + names[0].title() + \"!\")\n",
        "print(\"My dream car is \" + names[1].title() + \"!\")\n",
        "print(\"My dream car is \" + names[2].title() + \"!\")"
      ]
    }
  ]
}
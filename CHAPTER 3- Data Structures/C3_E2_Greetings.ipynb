{
  "nbformat": 4,
  "nbformat_minor": 0,
  "metadata": {
    "colab": {
      "provenance": [],
      "collapsed_sections": []
    },
    "kernelspec": {
      "name": "python3",
      "display_name": "Python 3"
    },
    "language_info": {
      "name": "python"
    }
  },
  "cells": [
    {
      "cell_type": "code",
      "execution_count": 2,
      "metadata": {
        "colab": {
          "base_uri": "https://localhost:8080/"
        },
        "id": "faRsRLHGj4Za",
        "outputId": "c7f83ff2-3dd8-4042-ef2b-2fae35d63180"
      },
      "outputs": [
        {
          "output_type": "stream",
          "name": "stdout",
          "text": [
            "Hi! How are you, Nichole?\n",
            "Hi! How are you, Marlvienne?\n",
            "Hi! How are you, Brendel?\n"
          ]
        }
      ],
      "source": [
        "#Storing the names of a few of my friends in a list called names\n",
        "names = ['Nichole', 'Marlvienne', 'Brendel']\n",
        "#Greeting each your friend by their names\n",
        "print(\"Hi! How are you, \" + names[0].title() + \"?\")\n",
        "print(\"Hi! How are you, \" + names[1].title() + \"?\")\n",
        "print(\"Hi! How are you, \" + names[2].title() + \"?\")"
      ]
    }
  ]
}
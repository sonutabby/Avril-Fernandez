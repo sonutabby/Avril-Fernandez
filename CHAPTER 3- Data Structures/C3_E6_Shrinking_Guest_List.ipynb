{
  "nbformat": 4,
  "nbformat_minor": 0,
  "metadata": {
    "colab": {
      "provenance": [],
      "collapsed_sections": []
    },
    "kernelspec": {
      "name": "python3",
      "display_name": "Python 3"
    },
    "language_info": {
      "name": "python"
    }
  },
  "cells": [
    {
      "cell_type": "code",
      "source": [
        "#Inviting 3 people\n",
        "names = ['Amir','Amiel','Atasha']\n",
        "#Invite them to dinner\n",
        "print(\"Are you available for dinner, \" + names[0].title() + \"?\")\n",
        "print(\"Are you available for dinner, \" + names[1].title() + \"?\")\n",
        "print(\"Are you available for dinner, \" + names[2].title() + \"?\")\n",
        "\n",
        "print(names[2], 'cant come to the dinner')\n",
        "\n",
        "#Replacing the guest because one of the guest in your list can't make it to dinner.\n",
        "names[2]='Eliezer'\n",
        "print(names)\n",
        "print(\"Are you available for dinner, \" + names[0].title() + \"?\")\n",
        "print(\"Are you available for dinner, \" + names[1].title() + \"?\")\n",
        "print(\"Are you available for dinner, \" + names[2].title() + \"?\")\n",
        "\n",
        "#Inviting only two people for dinner\n",
        "name = ['Amir','Amiel','Eliezer']\n",
        "print('I can only invite two people for dinner')\n",
        "print(names[1], 'sorry I cant invite you to dinner')\n",
        "popped=names.pop(1)\n",
        "print(popped)\n",
        "print(names[0], 'you are still invited to dinner')\n",
        "print(names[1], 'you are still invited to dinner')\n",
        "\n",
        "#Using del to remove two names from the list\n",
        "names = ['Amir','Eliezer']\n",
        "del names"
      ],
      "metadata": {
        "colab": {
          "base_uri": "https://localhost:8080/"
        },
        "id": "wfk_Q2Qd0p5t",
        "outputId": "fbb6736d-c923-4edf-8634-a32a4d0bf9dc"
      },
      "execution_count": 2,
      "outputs": [
        {
          "output_type": "stream",
          "name": "stdout",
          "text": [
            "Are you available for dinner, Amir?\n",
            "Are you available for dinner, Amiel?\n",
            "Are you available for dinner, Atasha?\n",
            "Atasha cant come to the dinner\n",
            "['Amir', 'Amiel', 'Eliezer']\n",
            "Are you available for dinner, Amir?\n",
            "Are you available for dinner, Amiel?\n",
            "Are you available for dinner, Eliezer?\n",
            "I can only invite two people for dinner\n",
            "Amiel sorry I cant invite you to dinner\n",
            "Amiel\n",
            "Amir you are still invited to dinner\n",
            "Eliezer you are still invited to dinner\n"
          ]
        }
      ]
    }
  ]
}
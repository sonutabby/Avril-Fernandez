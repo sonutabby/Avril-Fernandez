{
  "nbformat": 4,
  "nbformat_minor": 0,
  "metadata": {
    "colab": {
      "provenance": [],
      "collapsed_sections": []
    },
    "kernelspec": {
      "name": "python3",
      "display_name": "Python 3"
    },
    "language_info": {
      "name": "python"
    }
  },
  "cells": [
    {
      "cell_type": "code",
      "execution_count": 2,
      "metadata": {
        "id": "iRvfPfZi5oZc",
        "colab": {
          "base_uri": "https://localhost:8080/"
        },
        "outputId": "c00e40b3-2a61-4e7b-d756-0f174e9581f8"
      },
      "outputs": [
        {
          "output_type": "stream",
          "name": "stdout",
          "text": [
            "['Korea', 'Japan', 'Singapore', 'France', 'Thailand']\n",
            "['France', 'Japan', 'Korea', 'Singapore', 'Thailand']\n",
            "['Canada', 'Philippines', 'Russia', 'United Kingdom', 'Maldives']\n",
            "['Maldives', 'United Kingdom', 'Russia', 'Philippines', 'Canada']\n"
          ]
        }
      ],
      "source": [
        "#Store five places or country you would like to visit then store in a list that is not alphabetical order.\n",
        "\n",
        "location = ['Korea','Japan','Singapore','France','Thailand']\n",
        "print(location)\n",
        "location.sort()\n",
        "print(location)\n",
        "\n",
        "location = ['Canada','Philippines','Russia','United Kingdom','Maldives']\n",
        "print(location)\n",
        "location.reverse()\n",
        "print(location)"
      ]
    }
  ]
}
{
  "nbformat": 4,
  "nbformat_minor": 0,
  "metadata": {
    "colab": {
      "provenance": [],
      "collapsed_sections": []
    },
    "kernelspec": {
      "name": "python3",
      "display_name": "Python 3"
    },
    "language_info": {
      "name": "python"
    }
  },
  "cells": [
    {
      "cell_type": "code",
      "execution_count": 2,
      "metadata": {
        "colab": {
          "base_uri": "https://localhost:8080/"
        },
        "id": "QCuSd8mYvVqh",
        "outputId": "757cc0ce-9057-4da3-9176-07da8c0e665d"
      },
      "outputs": [
        {
          "output_type": "stream",
          "name": "stdout",
          "text": [
            "She is\tPretty\n",
            "\n",
            "\n",
            "Programming Languages: \n",
            "Gorgeous\n",
            "Pretty\n",
            "Attractive\n",
            "\n",
            "\n",
            "Programming Languanges:\n",
            "Gorgeous\tPretty\n",
            "\tBeautiful\n",
            "\tAttractive\n"
          ]
        }
      ],
      "source": [
        "#Adding tab to your text, and using the character combination \\t\n",
        "print(\"She is\\tPretty\")\n",
        "#to add a newline in a string, you can use the character combination \\n\n",
        "print(\"\\n\")\n",
        "print(\"Programming Languages: \\nGorgeous\\nPretty\\nAttractive\")\n",
        "print(\"\\n\")\n",
        "#formatting using \\t and \\n\n",
        "print(\"Programming Languanges:\\nGorgeous\\tPretty\\n\\tBeautiful\\n\\tAttractive\")"
      ]
    },
    {
      "cell_type": "code",
      "source": [
        "#The use of lstrip() function to remove the spaces coming from left side of the string\n",
        "rhyme= '         The wheels on the bus go round and round'\n",
        "new_rhyme=rhyme.lstrip()\n",
        "print(rhyme)\n",
        "print(new_rhyme)"
      ],
      "metadata": {
        "colab": {
          "base_uri": "https://localhost:8080/"
        },
        "id": "C2XqIjdL0zMF",
        "outputId": "f195a4af-e01b-4aa9-f2ca-736f7f0b6d2f"
      },
      "execution_count": 3,
      "outputs": [
        {
          "output_type": "stream",
          "name": "stdout",
          "text": [
            "         The wheels on the bus go round and round\n",
            "The wheels on the bus go round and round\n"
          ]
        }
      ]
    },
    {
      "cell_type": "code",
      "source": [
        "#The use of rstrip() function to remove the spaces from the left side of the string\n",
        "quote= 'God is good all the time      '\n",
        "new_quote=quote.rstrip()\n",
        "print(quote)\n",
        "print(new_quote)"
      ],
      "metadata": {
        "colab": {
          "base_uri": "https://localhost:8080/"
        },
        "id": "3RKJF0CB2OAo",
        "outputId": "97281d15-29b0-4640-fadb-6b364cd68ec6"
      },
      "execution_count": null,
      "outputs": [
        {
          "output_type": "stream",
          "name": "stdout",
          "text": [
            "God is good all the time      \n",
            "God is good all the time\n"
          ]
        }
      ]
    },
    {
      "cell_type": "code",
      "source": [
        "#The use of strip() function to remove the spaces from the beginning or end \n",
        "name= '              Abby                '\n",
        "new_name=name.strip()\n",
        "print(name)\n",
        "print(new_name)"
      ],
      "metadata": {
        "colab": {
          "base_uri": "https://localhost:8080/"
        },
        "id": "LvtMVSDa2Soe",
        "outputId": "2a3d5289-102b-4e3c-ba18-d592f031a9e0"
      },
      "execution_count": 4,
      "outputs": [
        {
          "output_type": "stream",
          "name": "stdout",
          "text": [
            "              Abby                \n",
            "Abby\n"
          ]
        }
      ]
    }
  ]
}
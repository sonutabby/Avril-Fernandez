{
  "nbformat": 4,
  "nbformat_minor": 0,
  "metadata": {
    "colab": {
      "provenance": []
    },
    "kernelspec": {
      "name": "python3",
      "display_name": "Python 3"
    },
    "language_info": {
      "name": "python"
    }
  },
  "cells": [
    {
      "cell_type": "code",
      "execution_count": 1,
      "metadata": {
        "colab": {
          "base_uri": "https://localhost:8080/"
        },
        "id": "Nh6uV5V15Fb_",
        "outputId": "0b1954e1-314d-4745-fb15-41697977ae83"
      },
      "outputs": [
        {
          "output_type": "stream",
          "name": "stdout",
          "text": [
            "Albert Einstein once said, \"When the solution is simple, God is anwering\"\n"
          ]
        }
      ],
      "source": [
        "#Printing a quote from a famous person which you admire the most and print it along with the name of that person.\n",
        "print('Albert Einstein once said, \"When the solution is simple, God is anwering\"')"
      ]
    }
  ]
}
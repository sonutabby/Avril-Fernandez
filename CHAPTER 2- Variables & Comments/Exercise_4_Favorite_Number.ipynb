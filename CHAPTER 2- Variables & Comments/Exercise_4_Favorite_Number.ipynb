{
  "nbformat": 4,
  "nbformat_minor": 0,
  "metadata": {
    "colab": {
      "provenance": []
    },
    "kernelspec": {
      "name": "python3",
      "display_name": "Python 3"
    },
    "language_info": {
      "name": "python"
    }
  },
  "cells": [
    {
      "cell_type": "code",
      "execution_count": 1,
      "metadata": {
        "colab": {
          "base_uri": "https://localhost:8080/"
        },
        "id": "eHZhTtAr4yER",
        "outputId": "30bd6d17-5cb8-48ae-ad95-bfe875f9d2d6"
      },
      "outputs": [
        {
          "output_type": "stream",
          "name": "stdout",
          "text": [
            "Enter 2 numbers: \n",
            "63\n",
            "69\n",
            "The addition of 63 and 69 is 132\n",
            "The subtraction of 63 and 69 is -6\n",
            "The multiplication of 63 and 69 is 4347\n",
            "The division of 63 and 69 is 0.9130434782608695\n",
            "The modules of 63 and 69 is 63\n",
            "The power of 63 and 69 is 14272429692294731327251012043713000292626247275645887513299651335086592022393048620445690793546029610345121610597311003849023\n"
          ]
        }
      ],
      "source": [
        "#get atleast 2 numbers from the user the numbers must be your favorite number.\n",
        "print('Enter 2 numbers: ')\n",
        "a=int(input())\n",
        "b=int(input())\n",
        "\n",
        "#calculate and print the results of your favorite number.\n",
        "print('The addition of '+str(a)+' and '+str(b)+' is '+str(a+b))\n",
        "print('The subtraction of '+str(a)+' and '+str(b)+' is '+str(a-b))\n",
        "print('The multiplication of '+str(a)+' and '+str(b)+' is '+str(a*b))\n",
        "print('The division of '+str(a)+' and '+str(b)+' is '+str(a/b))\n",
        "print('The modules of '+str(a)+' and '+str(b)+' is '+str(a%b))\n",
        "print('The power of '+str(a)+' and '+str(b)+' is '+str(a**b))"
      ]
    }
  ]
}
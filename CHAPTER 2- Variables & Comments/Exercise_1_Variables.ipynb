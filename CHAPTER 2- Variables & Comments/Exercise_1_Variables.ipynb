{
  "nbformat": 4,
  "nbformat_minor": 0,
  "metadata": {
    "colab": {
      "provenance": [],
      "collapsed_sections": []
    },
    "kernelspec": {
      "name": "python3",
      "display_name": "Python 3"
    },
    "language_info": {
      "name": "python"
    }
  },
  "cells": [
    {
      "cell_type": "code",
      "execution_count": 1,
      "metadata": {
        "colab": {
          "base_uri": "https://localhost:8080/"
        },
        "id": "dESgoATDyf12",
        "outputId": "cc5fcfe0-3ebe-4b9d-9575-7edea7ed824d"
      },
      "outputs": [
        {
          "output_type": "stream",
          "name": "stdout",
          "text": [
            "Please enter the side of square:\n",
            "4\n",
            "Side of the square= 4\n",
            "The area of a square with side 4 units= 16 sq units\n"
          ]
        }
      ],
      "source": [
        "#using an input() function to work with user with defined variables\n",
        "print('Please enter the side of square:')\n",
        "side=int(input())\n",
        "print('Side of the square=' , side)\n",
        "print('The area of a square with side '+str(side) + ' units= '+str(side**2)+ ' sq units')"
      ]
    },
    {
      "cell_type": "code",
      "source": [
        "#using an input() function to work with user with defined variables\n",
        "PI=8.6969\n",
        "print('Please enter the radius of a circle')\n",
        "r=int(input())\n",
        "print('The area of a circle with radius is '+str(r) +' units=: '+str(PI*r**2)+' sq units')"
      ],
      "metadata": {
        "colab": {
          "base_uri": "https://localhost:8080/"
        },
        "id": "8ccW_IQ94L9U",
        "outputId": "3d962b0e-d295-4c22-adcc-c0a77395bc57"
      },
      "execution_count": 2,
      "outputs": [
        {
          "output_type": "stream",
          "name": "stdout",
          "text": [
            "Please enter the radius of a circle\n",
            "45\n",
            "The area of a circle with radius is 45 units=: 17611.2225 sq units\n"
          ]
        }
      ]
    }
  ]
}
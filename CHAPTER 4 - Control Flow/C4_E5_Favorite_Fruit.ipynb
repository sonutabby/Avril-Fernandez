{
  "nbformat": 4,
  "nbformat_minor": 0,
  "metadata": {
    "colab": {
      "provenance": []
    },
    "kernelspec": {
      "name": "python3",
      "display_name": "Python 3"
    },
    "language_info": {
      "name": "python"
    }
  },
  "cells": [
    {
      "cell_type": "code",
      "execution_count": 2,
      "metadata": {
        "colab": {
          "base_uri": "https://localhost:8080/"
        },
        "id": "Vlp5x1fK2Of5",
        "outputId": "176cb361-515b-4c79-e511-7a5e457bd128"
      },
      "outputs": [
        {
          "output_type": "stream",
          "name": "stdout",
          "text": [
            "You really like Strawberry!\n",
            "You really like Manggo!\n",
            "You really like Watermelon!\n"
          ]
        }
      ],
      "source": [
        "favorite_fruits = ['Strawberry', 'Watermelon', 'Manggo']\n",
        "\n",
        "if 'Avocaado' in favorite_fruits:\n",
        "    print(\"You really like Avocado!\")\n",
        "if 'Banana' in favorite_fruits:\n",
        "    print(\"You really like Banana!\")\n",
        "if 'Strawberry' in favorite_fruits:\n",
        "    print(\"You really like Strawberry!\")\n",
        "if 'Manggo' in favorite_fruits:\n",
        "    print(\"You really like Manggo!\")\n",
        "if 'Watermelon' in favorite_fruits:\n",
        "    print(\"You really like Watermelon!\")"
      ]
    }
  ]
}
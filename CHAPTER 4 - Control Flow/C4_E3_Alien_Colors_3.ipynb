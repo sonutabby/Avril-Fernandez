{
  "nbformat": 4,
  "nbformat_minor": 0,
  "metadata": {
    "colab": {
      "provenance": []
    },
    "kernelspec": {
      "name": "python3",
      "display_name": "Python 3"
    },
    "language_info": {
      "name": "python"
    }
  },
  "cells": [
    {
      "cell_type": "code",
      "execution_count": 18,
      "metadata": {
        "colab": {
          "base_uri": "https://localhost:8080/"
        },
        "id": "Xr1QvT55-Z7h",
        "outputId": "08a68ca4-c96f-4aba-aa6f-33d0504f367a"
      },
      "outputs": [
        {
          "output_type": "stream",
          "name": "stdout",
          "text": [
            "Enter a color\n",
            "red\n",
            "The player just earned 10 points.\n"
          ]
        }
      ],
      "source": [
        "print('Enter a color')\n",
        "alien_color='green'\n",
        "alien_color='yellow'\n",
        "alien_color='red'\n",
        "color=str(input())\n",
        "\n",
        "if alien_color is 'green':\n",
        "  print('The player just earned 5 points for shooting the alien.')\n",
        "elif alien_color is 'red':\n",
        "  print('The player just earned 10 points.')\n",
        "else:\n",
        "  print('The player earned 20 points')"
      ]
    }
  ]
}
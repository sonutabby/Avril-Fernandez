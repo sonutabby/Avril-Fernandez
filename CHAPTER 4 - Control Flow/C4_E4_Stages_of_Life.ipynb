{
  "nbformat": 4,
  "nbformat_minor": 0,
  "metadata": {
    "colab": {
      "provenance": [],
      "collapsed_sections": []
    },
    "kernelspec": {
      "name": "python3",
      "display_name": "Python 3"
    },
    "language_info": {
      "name": "python"
    }
  },
  "cells": [
    {
      "cell_type": "code",
      "execution_count": 2,
      "metadata": {
        "colab": {
          "base_uri": "https://localhost:8080/"
        },
        "id": "FuTz9Y_v0GiG",
        "outputId": "583a0e26-21bd-4d00-ecdd-43953c0c1f84"
      },
      "outputs": [
        {
          "output_type": "stream",
          "name": "stdout",
          "text": [
            "This person is a teenager!\n"
          ]
        }
      ],
      "source": [
        "age = 19\n",
        "\n",
        "if age < 2:\n",
        "    print('this person is still a baby!')\n",
        "elif age < 4:\n",
        "    print('This person is a toddler!')\n",
        "elif age < 13:\n",
        "    print('This person is a kid!')\n",
        "elif age < 20:\n",
        "    print('This person is a teenager!')\n",
        "elif age < 65:\n",
        "    print('This person is adult!')\n",
        "else:\n",
        "    print('Youre an elder!')"
      ]
    }
  ]
}
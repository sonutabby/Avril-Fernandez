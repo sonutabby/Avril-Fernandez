{
  "nbformat": 4,
  "nbformat_minor": 0,
  "metadata": {
    "colab": {
      "provenance": []
    },
    "kernelspec": {
      "name": "python3",
      "display_name": "Python 3"
    },
    "language_info": {
      "name": "python"
    }
  },
  "cells": [
    {
      "cell_type": "code",
      "execution_count": 1,
      "metadata": {
        "colab": {
          "base_uri": "https://localhost:8080/"
        },
        "id": "9LO61gXa6kPd",
        "outputId": "f839536d-94b5-45d5-cc4a-3a5cfa3246f7"
      },
      "outputs": [
        {
          "output_type": "stream",
          "name": "stdout",
          "text": [
            "The player just earned 5 points\n"
          ]
        }
      ],
      "source": [
        "alien_color='green'\n",
        "if alien_color is 'green':\n",
        "  print('The player just earned 5 points')"
      ]
    }
  ]
}
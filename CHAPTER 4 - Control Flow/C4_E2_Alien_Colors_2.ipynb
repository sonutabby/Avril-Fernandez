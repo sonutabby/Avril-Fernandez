{
  "nbformat": 4,
  "nbformat_minor": 0,
  "metadata": {
    "colab": {
      "provenance": []
    },
    "kernelspec": {
      "name": "python3",
      "display_name": "Python 3"
    },
    "language_info": {
      "name": "python"
    }
  },
  "cells": [
    {
      "cell_type": "code",
      "execution_count": 13,
      "metadata": {
        "colab": {
          "base_uri": "https://localhost:8080/"
        },
        "id": "bLgiztzH7cre",
        "outputId": "fe704bf3-0277-4d79-f389-5ab5e57b2306"
      },
      "outputs": [
        {
          "output_type": "stream",
          "name": "stdout",
          "text": [
            "Enter an alien color\n",
            "yellow\n",
            "The player earned 10 points\n"
          ]
        }
      ],
      "source": [
        "alien_color='green','yellow','red'\n",
        "print('Enter an alien color')\n",
        "color=str(input())\n",
        "\n",
        "if alien_color is 'green':\n",
        "  print('The player just earned 5 points for shooting the alien.')\n",
        "else:\n",
        "   print('The player earned 10 points')"
      ]
    }
  ]
}
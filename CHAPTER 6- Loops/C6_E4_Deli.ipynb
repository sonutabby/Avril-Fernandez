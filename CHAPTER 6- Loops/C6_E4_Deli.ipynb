{
  "nbformat": 4,
  "nbformat_minor": 0,
  "metadata": {
    "colab": {
      "provenance": [],
      "collapsed_sections": []
    },
    "kernelspec": {
      "name": "python3",
      "display_name": "Python 3"
    },
    "language_info": {
      "name": "python"
    }
  },
  "cells": [
    {
      "cell_type": "code",
      "execution_count": 4,
      "metadata": {
        "colab": {
          "base_uri": "https://localhost:8080/"
        },
        "id": "LfumFqqHLbUJ",
        "outputId": "01e01550-e85b-4c49-9255-49f4f40faaf2"
      },
      "outputs": [
        {
          "output_type": "stream",
          "name": "stdout",
          "text": [
            "I'm making your Ham sandwich right now.\n",
            "I'm making your Nutella sandwich right now.\n",
            "I'm making your Roast Beef sandwich right now.\n",
            "I'm making your Grilled Cheese sandwich right now.\n",
            "\n",
            "\n",
            "I made you a Ham sandwich.\n",
            "I made you a Nutella sandwich.\n",
            "I made you a Roast Beef sandwich.\n",
            "I made you a Grilled Cheese sandwich.\n"
          ]
        }
      ],
      "source": [
        "sandwich_orders = ['Grilled Cheese', 'Roast Beef', 'Nutella', 'Ham']\n",
        "finished_sandwiches = []\n",
        "\n",
        "while sandwich_orders:\n",
        "    current_sandwich = sandwich_orders.pop()\n",
        "    print(\"I'm making your \" + current_sandwich + \" sandwich right now.\")\n",
        "    finished_sandwiches.append(current_sandwich)\n",
        "\n",
        "print(\"\\n\")\n",
        "for sandwich in finished_sandwiches:\n",
        "    print(\"I made you a \" + sandwich + \" sandwich.\")"
      ]
    }
  ]
}
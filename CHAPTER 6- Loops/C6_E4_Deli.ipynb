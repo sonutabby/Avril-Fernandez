{
  "nbformat": 4,
  "nbformat_minor": 0,
  "metadata": {
    "colab": {
      "provenance": [],
      "collapsed_sections": []
    },
    "kernelspec": {
      "name": "python3",
      "display_name": "Python 3"
    },
    "language_info": {
      "name": "python"
    }
  },
  "cells": [
    {
      "cell_type": "code",
      "execution_count": 1,
      "metadata": {
        "colab": {
          "base_uri": "https://localhost:8080/"
        },
        "id": "LfumFqqHLbUJ",
        "outputId": "9764fb3f-74e1-4905-b160-2ad66b39e28c"
      },
      "outputs": [
        {
          "output_type": "stream",
          "name": "stdout",
          "text": [
            "I'm making your Ham sandwich right now.\n",
            "I'm making your Nutella sandwich right now.\n",
            "I'm making your Roast Beef sandwich right now.\n",
            "I'm making your Grilled Cheese sandwich right now.\n",
            "\n",
            "\n",
            "I made you a Ham sandwich.\n",
            "I made you a Nutella sandwich.\n",
            "I made you a Roast Beef sandwich.\n",
            "I made you a Grilled Cheese sandwich.\n"
          ]
        }
      ],
      "source": [
        "#Making a list called sandwich orders\n",
        "sandwich_orders = ['Grilled Cheese', 'Roast Beef', 'Nutella', 'Ham']\n",
        "finished_sandwiches = []\n",
        "\n",
        "while sandwich_orders:\n",
        "    current_sandwich = sandwich_orders.pop()\n",
        "    print(\"I'm making your \" + current_sandwich + \" sandwich right now.\")\n",
        "    finished_sandwiches.append(current_sandwich)\n",
        "\n",
        "print(\"\\n\")\n",
        "for sandwich in finished_sandwiches:\n",
        "    print(\"I made you a \" + sandwich + \" sandwich.\")"
      ]
    }
  ]
}
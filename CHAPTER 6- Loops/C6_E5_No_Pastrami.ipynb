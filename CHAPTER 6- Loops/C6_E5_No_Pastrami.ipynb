{
  "nbformat": 4,
  "nbformat_minor": 0,
  "metadata": {
    "colab": {
      "provenance": [],
      "collapsed_sections": []
    },
    "kernelspec": {
      "name": "python3",
      "display_name": "Python 3"
    },
    "language_info": {
      "name": "python"
    }
  },
  "cells": [
    {
      "cell_type": "code",
      "execution_count": 1,
      "metadata": {
        "colab": {
          "base_uri": "https://localhost:8080/"
        },
        "id": "cVpnJzDZNDS9",
        "outputId": "0b1b8498-5bbc-4725-edae-cd3469f3726c"
      },
      "outputs": [
        {
          "output_type": "stream",
          "name": "stdout",
          "text": [
            "I'm sorry, we're all out of Pastrami today.\n",
            "\n",
            "\n",
            "I'm making your Roast Beef sandwich right now.\n",
            "I'm making your Turkey sandwich right now.\n",
            "I'm making your Grilled cheese sandwich right now.\n",
            "I'm making your Nutella sandwich right now.\n",
            "\n",
            "\n",
            "I made you a Roast Beef sandwich.\n",
            "I made you a Turkey sandwich.\n",
            "I made you a Grilled cheese sandwich.\n",
            "I made you a Nutella sandwich.\n"
          ]
        }
      ],
      "source": [
        "#Make the 'Pastrami' mentioned atleast three times in the lists.\n",
        "sandwich_orders = [\n",
        "    'Nutella', 'Pastrami', 'Grilled cheese', 'Pastrami',\n",
        "    'Turkey', 'Pastrami', 'Roast Beef']\n",
        "finished_sandwiches = []\n",
        "\n",
        "print(\"I'm sorry, we're all out of Pastrami today.\")\n",
        "while 'Pastrami' in sandwich_orders:\n",
        "    sandwich_orders.remove('Pastrami')\n",
        "\n",
        "print(\"\\n\")\n",
        "while sandwich_orders:\n",
        "    current_sandwich = sandwich_orders.pop()\n",
        "    print(\"I'm making your \" + current_sandwich + \" sandwich right now.\")\n",
        "    finished_sandwiches.append(current_sandwich)\n",
        "\n",
        "print(\"\\n\")\n",
        "for sandwich in finished_sandwiches:\n",
        "    print(\"I made you a \" + sandwich + \" sandwich.\")"
      ]
    }
  ]
}
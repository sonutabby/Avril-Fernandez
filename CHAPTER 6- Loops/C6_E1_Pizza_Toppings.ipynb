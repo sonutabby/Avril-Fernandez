{
  "nbformat": 4,
  "nbformat_minor": 0,
  "metadata": {
    "colab": {
      "provenance": [],
      "collapsed_sections": []
    },
    "kernelspec": {
      "name": "python3",
      "display_name": "Python 3"
    },
    "language_info": {
      "name": "python"
    }
  },
  "cells": [
    {
      "cell_type": "code",
      "execution_count": 2,
      "metadata": {
        "id": "M4hHwAWRFKju",
        "colab": {
          "base_uri": "https://localhost:8080/"
        },
        "outputId": "7fb4acb5-5d37-48d7-f653-f487723bbf88"
      },
      "outputs": [
        {
          "name": "stdout",
          "output_type": "stream",
          "text": [
            "\n",
            "What topping would you like on your pizza?\n",
            "Enter 'quit' when you are finished: Mushroom\n",
            "  I'll add Mushroom to your pizza.\n",
            "\n",
            "What topping would you like on your pizza?\n",
            "Enter 'quit' when you are finished: Extra Cheese\n",
            "  I'll add Extra Cheese to your pizza.\n",
            "\n",
            "What topping would you like on your pizza?\n",
            "Enter 'quit' when you are finished: White Onions\n",
            "  I'll add White Onions to your pizza.\n",
            "\n",
            "What topping would you like on your pizza?\n",
            "Enter 'quit' when you are finished: quit\n"
          ]
        }
      ],
      "source": [
        "prompt = \"\\nWhat topping would you like on your pizza?\"\n",
        "prompt += \"\\nEnter 'quit' when you are finished: \"\n",
        "\n",
        "while True:\n",
        "    topping = input(prompt)\n",
        "    if topping != 'quit':\n",
        "        print(\"  I'll add \" + topping + \" to your pizza.\")\n",
        "    else:\n",
        "        break"
      ]
    }
  ]
}
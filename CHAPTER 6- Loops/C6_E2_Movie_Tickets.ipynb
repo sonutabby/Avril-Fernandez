{
  "nbformat": 4,
  "nbformat_minor": 0,
  "metadata": {
    "colab": {
      "provenance": []
    },
    "kernelspec": {
      "name": "python3",
      "display_name": "Python 3"
    },
    "language_info": {
      "name": "python"
    }
  },
  "cells": [
    {
      "cell_type": "code",
      "execution_count": 5,
      "metadata": {
        "colab": {
          "base_uri": "https://localhost:8080/"
        },
        "id": "sCk3X1GyIPsn",
        "outputId": "f667aa4c-c3b2-47dc-ca75-15dc365cab73"
      },
      "outputs": [
        {
          "name": "stdout",
          "output_type": "stream",
          "text": [
            "How old are you?\n",
            "Enter 'quit' when you are finished. 19\n",
            "  Your ticket is $25.\n",
            "How old are you?\n",
            "Enter 'quit' when you are finished. quit\n"
          ]
        }
      ],
      "source": [
        "prompt = \"How old are you?\"\n",
        "prompt += \"\\nEnter 'quit' when you are finished. \"\n",
        "\n",
        "while True:\n",
        "    age = input(prompt)\n",
        "    if age == 'quit':\n",
        "        break\n",
        "    age = int(age)\n",
        "\n",
        "    if age < 16:\n",
        "        print(\"  Your ticket is $10\")\n",
        "    elif age < 18:\n",
        "        print(\"  Your ticket is $20.\")\n",
        "    else:\n",
        "        print(\"  Your ticket is $25.\")"
      ]
    }
  ]
}
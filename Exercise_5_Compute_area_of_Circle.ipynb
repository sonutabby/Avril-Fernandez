{
  "nbformat": 4,
  "nbformat_minor": 0,
  "metadata": {
    "colab": {
      "provenance": [],
      "authorship_tag": "ABX9TyPmK97L5g5T7jYj8gYrLoX3",
      "include_colab_link": true
    },
    "kernelspec": {
      "name": "python3",
      "display_name": "Python 3"
    },
    "language_info": {
      "name": "python"
    }
  },
  "cells": [
    {
      "cell_type": "markdown",
      "metadata": {
        "id": "view-in-github",
        "colab_type": "text"
      },
      "source": [
        "<a href=\"https://colab.research.google.com/github/sonutabby/Avril-Fernandez/blob/main/Exercise_5_Compute_area_of_Circle.ipynb\" target=\"_parent\"><img src=\"https://colab.research.google.com/assets/colab-badge.svg\" alt=\"Open In Colab\"/></a>"
      ]
    },
    {
      "cell_type": "code",
      "source": [
        "from math import pi \n",
        "r = float(input(\"Input the radius of the circle : \"))\n",
        "print (\"The area of the circle with radius\" + str(r) + \"is:\" + str(pi * r**2))"
      ],
      "metadata": {
        "colab": {
          "base_uri": "https://localhost:8080/"
        },
        "id": "VjcffbWEXMCh",
        "outputId": "fcc1b029-d6e6-4e7b-8374-842a3ff62c7c"
      },
      "execution_count": null,
      "outputs": [
        {
          "output_type": "stream",
          "name": "stdout",
          "text": [
            "Input the radius of the circle : 10\n",
            "The area of the circle with radius10.0is:314.1592653589793\n"
          ]
        }
      ]
    }
  ]
}
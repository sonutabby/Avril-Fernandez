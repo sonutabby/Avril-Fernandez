{
  "nbformat": 4,
  "nbformat_minor": 0,
  "metadata": {
    "colab": {
      "provenance": [],
      "collapsed_sections": []
    },
    "kernelspec": {
      "name": "python3",
      "display_name": "Python 3"
    },
    "language_info": {
      "name": "python"
    }
  },
  "cells": [
    {
      "cell_type": "code",
      "source": [
        "#working with strings\n",
        "sentence1+ \"'Today is 6th October, 2022, Thursday.'\"\n",
        "print(sentence1)\n",
        "print (sentence1[0])\n",
        "print (sentence1[0:5])\n",
        "print (sentence1[4:])\n",
        "print (sentence1*2)\n",
        "\n",
        "sentence2= \"'Today is our fifth session on 'Introduction on Programming.'\"\n",
        "print(sentence2)\n",
        "\n",
        "sentence3= \"'Today we are learning about different types of variables in Python Programming\"\n",
        "print(sentence3)\n",
        "\n",
        "#Srings Concitination\n",
        "#Write three strings in different variables and print the output as one string\n",
        "print(sentence1+sentence2+sentence3)"
      ],
      "metadata": {
        "colab": {
          "base_uri": "https://localhost:8080/"
        },
        "id": "kmpiBlIIeiL9",
        "outputId": "9c3699ae-b99c-40b9-87c3-2d01796270aa"
      },
      "execution_count": null,
      "outputs": [
        {
          "output_type": "stream",
          "name": "stdout",
          "text": [
            "'Today is 6th October, 2022, Thursday.'\n",
            "'\n",
            "'Toda\n",
            "ay is 6th October, 2022, Thursday.'\n",
            "'Today is 6th October, 2022, Thursday.''Today is 6th October, 2022, Thursday.'\n",
            "'Today is our fifth session on 'Introduction on Programming.'\n",
            "'Today we are learning about different types of variables in Python Programming\n",
            "'Today is 6th October, 2022, Thursday.''Today is our fifth session on 'Introduction on Programming.''Today we are learning about different types of variables in Python Programming\n"
          ]
        }
      ]
    }
  ]
}
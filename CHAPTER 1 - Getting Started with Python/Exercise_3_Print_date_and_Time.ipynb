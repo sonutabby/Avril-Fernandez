{
  "nbformat": 4,
  "nbformat_minor": 0,
  "metadata": {
    "colab": {
      "provenance": [],
      "collapsed_sections": []
    },
    "kernelspec": {
      "name": "python3",
      "display_name": "Python 3"
    },
    "language_info": {
      "name": "python"
    }
  },
  "cells": [
    {
      "cell_type": "code",
      "execution_count": null,
      "metadata": {
        "colab": {
          "base_uri": "https://localhost:8080/"
        },
        "id": "-MCj5xP-zckm",
        "outputId": "4bbc7be2-df46-4700-eb79-58354f4958f2"
      },
      "outputs": [
        {
          "output_type": "stream",
          "name": "stdout",
          "text": [
            "Today's date 2022-10-10\n",
            "day1 = 10/10/2022\n",
            "day2 = October 10, 2022\n",
            "day3 = 10/10/22\n",
            "day4 = Oct-10-2022\n"
          ]
        }
      ],
      "source": [
        "from datetime import date\n",
        "\n",
        "today = date.today()\n",
        "print(\"Today's date\" , today)\n",
        "\n",
        "# dd/mm/YY\n",
        "day1 = today.strftime(\"%d/%m/%Y\")\n",
        "print(\"day1 =\", day1)\n",
        "\n",
        "# Textual month, day and year\n",
        "day2 = today.strftime(\"%B %d, %Y\")\n",
        "print(\"day2 =\" , day2)\n",
        "\n",
        "# mm/dd/y\n",
        "day3 = today.strftime(\"%m/%d/%y\")\n",
        "print(\"day3 =\", day3)\n",
        "\n",
        "# Month abbreviation, day and year\n",
        "day4 = today.strftime(\"%b-%d-%Y\")\n",
        "print(\"day4 =\", day4)\n"
      ]
    }
  ]
}
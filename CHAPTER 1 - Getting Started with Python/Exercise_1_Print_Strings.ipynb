{
  "nbformat": 4,
  "nbformat_minor": 0,
  "metadata": {
    "colab": {
      "provenance": [],
      "collapsed_sections": []
    },
    "kernelspec": {
      "name": "python3",
      "display_name": "Python 3"
    },
    "language_info": {
      "name": "python"
    }
  },
  "cells": [
    {
      "cell_type": "code",
      "execution_count": null,
      "metadata": {
        "colab": {
          "base_uri": "https://localhost:8080/"
        },
        "id": "M0kB4q5YJN1r",
        "outputId": "29ecd232-6f37-46a5-a4ae-8b24b104ecd3"
      },
      "outputs": [
        {
          "output_type": "stream",
          "name": "stdout",
          "text": [
            "Itsy bitsy spider went up the water spout\n",
            "Down came the rain and washed the spider out\n",
            "Out came the sun and dried up all the rain\n",
            "Then the itsy bitsy spider went up the spout again\n"
          ]
        }
      ],
      "source": [
        "print('Itsy bitsy spider went up the water spout')\n",
        "print('Down came the rain and washed the spider out')\n",
        "print('Out came the sun and dried up all the rain')\n",
        "print('Then the itsy bitsy spider went up the spout again')"
      ]
    }
  ]
}
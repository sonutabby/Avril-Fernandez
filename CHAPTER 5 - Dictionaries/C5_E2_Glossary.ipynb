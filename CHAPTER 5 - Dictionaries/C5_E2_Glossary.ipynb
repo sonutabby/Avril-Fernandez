{
  "nbformat": 4,
  "nbformat_minor": 0,
  "metadata": {
    "colab": {
      "provenance": [],
      "collapsed_sections": []
    },
    "kernelspec": {
      "name": "python3",
      "display_name": "Python 3"
    },
    "language_info": {
      "name": "python"
    }
  },
  "cells": [
    {
      "cell_type": "code",
      "execution_count": 1,
      "metadata": {
        "colab": {
          "base_uri": "https://localhost:8080/"
        },
        "id": "4FBLCOxYGBWO",
        "outputId": "d9b9e57d-8fa9-41fe-da87-fdd7024963f6"
      },
      "outputs": [
        {
          "output_type": "stream",
          "name": "stdout",
          "text": [
            "concatenate :\n",
            "to join two strings or other applicable object types together.\n",
            "\n",
            "for loops :\n",
            "for loops are used to perform some action on each item in a list,\n"
          ]
        }
      ],
      "source": [
        "glossary = {\n",
        "    'concatenate': 'to join two strings or other applicable object types together.',\n",
        "    'for loops':'for loops are used to perform some action on each item in a list,',\n",
        "    'lists': 'lists are used to store multiple objects together'\n",
        "}\n",
        "print('concatenate :')\n",
        "print(glossary['concatenate'] + '\\n')\n",
        "print('for loops :')\n",
        "print(glossary['for loops'])"
      ]
    }
  ]
}
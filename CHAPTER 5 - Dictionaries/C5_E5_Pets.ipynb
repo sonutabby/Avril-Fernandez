{
  "nbformat": 4,
  "nbformat_minor": 0,
  "metadata": {
    "colab": {
      "provenance": [],
      "collapsed_sections": []
    },
    "kernelspec": {
      "name": "python3",
      "display_name": "Python 3"
    },
    "language_info": {
      "name": "python"
    }
  },
  "cells": [
    {
      "cell_type": "code",
      "execution_count": 5,
      "metadata": {
        "colab": {
          "base_uri": "https://localhost:8080/"
        },
        "id": "WWtd0FXl-roj",
        "outputId": "4a2d2afb-b5b4-4dad-e522-dd02e970477b"
      },
      "outputs": [
        {
          "output_type": "stream",
          "name": "stdout",
          "text": [
            "\n",
            "Here's what I know about White:\n",
            "\tanimal type: Cat\n",
            "\tname: White\n",
            "\towner: Avy\n",
            "\n",
            "Here's what I know about Tobi:\n",
            "\tanimal type: Dog\n",
            "\tname: Tobi\n",
            "\towner: Brendel\n",
            "\n",
            "Here's what I know about Blue:\n",
            "\tanimal type: Bird\n",
            "\tname: Blue\n",
            "\towner: Marlvienne\n"
          ]
        }
      ],
      "source": [
        "pets = []\n",
        "\n",
        "pet = {\n",
        "    'animal type': 'Cat',\n",
        "    'name': 'White',\n",
        "    'owner': 'Avy',  \n",
        "}\n",
        "pets.append(pet)\n",
        "\n",
        "pet = {\n",
        "    'animal type': 'Dog',\n",
        "    'name': 'Tobi',\n",
        "    'owner': 'Brendel',\n",
        "}\n",
        "pets.append(pet)\n",
        "\n",
        "pet = {\n",
        "    'animal type': 'Bird',\n",
        "    'name': 'Blue',\n",
        "    'owner': 'Marlvienne',\n",
        "}\n",
        "pets.append(pet)\n",
        "\n",
        "for pet in pets:\n",
        "    print(\"\\nHere's what I know about \" + pet['name'].title() + \":\")\n",
        "    for key, value in pet.items():\n",
        "        print(\"\\t\" + key + \": \" + str(value))"
      ]
    }
  ]
}
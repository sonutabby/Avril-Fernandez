{
  "nbformat": 4,
  "nbformat_minor": 0,
  "metadata": {
    "colab": {
      "provenance": [],
      "collapsed_sections": []
    },
    "kernelspec": {
      "name": "python3",
      "display_name": "Python 3"
    },
    "language_info": {
      "name": "python"
    }
  },
  "cells": [
    {
      "cell_type": "code",
      "execution_count": 2,
      "metadata": {
        "colab": {
          "base_uri": "https://localhost:8080/"
        },
        "id": "OuefU3q-69lN",
        "outputId": "61f1a71f-61c5-4e06-f1b6-9a4ff436d7d9"
      },
      "outputs": [
        {
          "output_type": "stream",
          "name": "stdout",
          "text": [
            "\n",
            "Str: A series of characters.\n",
            "\n",
            "Chr: Value to letter\n",
            "\n",
            "Ord: Letter to value\n",
            "\n",
            "Bin: Binary is a code, only come zero to one\n",
            "\n",
            "Sys: System\n",
            "\n",
            "Syn: Means grammar\n"
          ]
        }
      ],
      "source": [
        "glossary = {\n",
        "    'str': 'A series of characters.',\n",
        "    'chr': 'Value to letter',\n",
        "    'ord': 'Letter to value',\n",
        "    'bin': 'Binary is a code, only come zero to one',\n",
        "    'sys': 'System',\n",
        "    'syn': 'Means grammar',\n",
        "    }\n",
        "\n",
        "for word, definition in glossary.items():\n",
        "    print(\"\\n\" + word.title() + \": \" + definition)"
      ]
    }
  ]
}
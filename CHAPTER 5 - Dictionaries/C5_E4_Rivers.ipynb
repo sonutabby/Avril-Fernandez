{
  "nbformat": 4,
  "nbformat_minor": 0,
  "metadata": {
    "colab": {
      "provenance": [],
      "collapsed_sections": []
    },
    "kernelspec": {
      "name": "python3",
      "display_name": "Python 3"
    },
    "language_info": {
      "name": "python"
    }
  },
  "cells": [
    {
      "cell_type": "code",
      "execution_count": 1,
      "metadata": {
        "colab": {
          "base_uri": "https://localhost:8080/"
        },
        "id": "L5Lrg-MT9tn3",
        "outputId": "39b54b6b-29ab-4c2e-94bf-93b1c0ac3998"
      },
      "outputs": [
        {
          "output_type": "stream",
          "name": "stdout",
          "text": [
            "The Nile flows through Egypt.\n",
            "The Amazon flows through South America.\n",
            "The Yangtze flows through China.\n"
          ]
        }
      ],
      "source": [
        "rivers = {'Nile':'Egypt','Amazon':'South America','Yangtze':'China'}\n",
        "for river, country in rivers.items():\n",
        "    print(\"The \" + river.title() + \" flows through \" + country.title() + \".\")"
      ]
    }
  ]
}
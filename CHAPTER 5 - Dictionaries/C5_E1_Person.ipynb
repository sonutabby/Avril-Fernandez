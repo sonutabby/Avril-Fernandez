{
  "nbformat": 4,
  "nbformat_minor": 0,
  "metadata": {
    "colab": {
      "provenance": []
    },
    "kernelspec": {
      "name": "python3",
      "display_name": "Python 3"
    },
    "language_info": {
      "name": "python"
    }
  },
  "cells": [
    {
      "cell_type": "code",
      "execution_count": 1,
      "metadata": {
        "colab": {
          "base_uri": "https://localhost:8080/"
        },
        "id": "8RVAGTqcFmG6",
        "outputId": "cb257619-e405-4488-cb4f-8e26966d2d32"
      },
      "outputs": [
        {
          "output_type": "stream",
          "name": "stdout",
          "text": [
            "{'First Name': 'Avril', 'Last name': 'Fernandez', 'Age': '19', 'City': 'Dubai'}\n",
            "Avril\n",
            "Fernandez\n",
            "19\n",
            "Dubai\n"
          ]
        }
      ],
      "source": [
        "person = {'First Name': 'Avril', 'Last name': 'Fernandez','Age':'19','City': 'Dubai'}\n",
        "print(person)\n",
        "print(person['First Name'])\n",
        "print(person['Last name'])\n",
        "print(person['Age'])\n",
        "print(person['City'])"
      ]
    }
  ]
}
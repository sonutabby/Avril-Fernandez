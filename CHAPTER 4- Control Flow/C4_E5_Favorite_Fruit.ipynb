{
  "nbformat": 4,
  "nbformat_minor": 0,
  "metadata": {
    "colab": {
      "provenance": []
    },
    "kernelspec": {
      "name": "python3",
      "display_name": "Python 3"
    },
    "language_info": {
      "name": "python"
    }
  },
  "cells": [
    {
      "cell_type": "code",
      "execution_count": 1,
      "metadata": {
        "colab": {
          "base_uri": "https://localhost:8080/"
        },
        "id": "Vlp5x1fK2Of5",
        "outputId": "08484521-6013-43da-95c8-4a8cbad14255"
      },
      "outputs": [
        {
          "output_type": "stream",
          "name": "stdout",
          "text": [
            "You really like Strawberry!\n",
            "You really like Manggo!\n",
            "You really like Watermelon!\n"
          ]
        }
      ],
      "source": [
        "#Storing your favorite you enjoy, creating a sequence of independent if statements that look for specific fruits on the list.\n",
        "favorite_fruits = ['Strawberry', 'Watermelon', 'Manggo']\n",
        "\n",
        "if 'Avocaado' in favorite_fruits:\n",
        "    print(\"You really like Avocado!\")\n",
        "if 'Banana' in favorite_fruits:\n",
        "    print(\"You really like Banana!\")\n",
        "if 'Strawberry' in favorite_fruits:\n",
        "    print(\"You really like Strawberry!\")\n",
        "if 'Manggo' in favorite_fruits:\n",
        "    print(\"You really like Manggo!\")\n",
        "if 'Watermelon' in favorite_fruits:\n",
        "    print(\"You really like Watermelon!\")"
      ]
    }
  ]
}
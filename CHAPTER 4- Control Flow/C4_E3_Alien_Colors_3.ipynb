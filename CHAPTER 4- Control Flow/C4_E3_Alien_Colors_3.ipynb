{
  "nbformat": 4,
  "nbformat_minor": 0,
  "metadata": {
    "colab": {
      "provenance": []
    },
    "kernelspec": {
      "name": "python3",
      "display_name": "Python 3"
    },
    "language_info": {
      "name": "python"
    }
  },
  "cells": [
    {
      "cell_type": "code",
      "execution_count": 1,
      "metadata": {
        "colab": {
          "base_uri": "https://localhost:8080/"
        },
        "id": "Xr1QvT55-Z7h",
        "outputId": "9c994242-ae6a-47aa-9eda-70fe73ae0cf5"
      },
      "outputs": [
        {
          "output_type": "stream",
          "name": "stdout",
          "text": [
            "Enter a color\n",
            "red\n",
            "The player just earned 10 points.\n"
          ]
        }
      ],
      "source": [
        "#Converting the if-else into an if-else chain.\n",
        "print('Enter a color')\n",
        "alien_color='green'\n",
        "alien_color='yellow'\n",
        "alien_color='red'\n",
        "color=str(input())\n",
        "\n",
        "#Create three different iterations of the program, print each message for the right alien hue.\n",
        "if alien_color is 'green':\n",
        "  print('The player just earned 5 points for shooting the alien.')\n",
        "elif alien_color is 'red':\n",
        "  print('The player just earned 10 points.')\n",
        "else:\n",
        "  print('The player earned 20 points')"
      ]
    }
  ]
}
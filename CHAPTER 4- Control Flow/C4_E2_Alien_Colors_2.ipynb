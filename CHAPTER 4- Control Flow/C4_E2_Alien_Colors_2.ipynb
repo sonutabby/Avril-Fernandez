{
  "nbformat": 4,
  "nbformat_minor": 0,
  "metadata": {
    "colab": {
      "provenance": []
    },
    "kernelspec": {
      "name": "python3",
      "display_name": "Python 3"
    },
    "language_info": {
      "name": "python"
    }
  },
  "cells": [
    {
      "cell_type": "code",
      "execution_count": 1,
      "metadata": {
        "colab": {
          "base_uri": "https://localhost:8080/"
        },
        "id": "bLgiztzH7cre",
        "outputId": "6a4d3397-3f8c-4b44-ce8c-8ac795c654df"
      },
      "outputs": [
        {
          "output_type": "stream",
          "name": "stdout",
          "text": [
            "Enter an alien color\n",
            "yellow\n",
            "The player earned 10 points\n"
          ]
        }
      ],
      "source": [
        "#Print a message stating that the player has just won 5 points for shooting the alien if it is green.\n",
        "alien_color='green','yellow','red'\n",
        "print('Enter an alien color')\n",
        "color=str(input())\n",
        "#Print a message stating that the player has just received 10 points if the alien isn't green.\n",
        "if alien_color is 'green':\n",
        "  print('The player just earned 5 points for shooting the alien.')\n",
        "else:\n",
        "   print('The player earned 10 points')"
      ]
    }
  ]
}
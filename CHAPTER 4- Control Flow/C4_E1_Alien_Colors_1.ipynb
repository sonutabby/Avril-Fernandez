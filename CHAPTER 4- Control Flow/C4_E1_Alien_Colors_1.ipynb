{
  "nbformat": 4,
  "nbformat_minor": 0,
  "metadata": {
    "colab": {
      "provenance": []
    },
    "kernelspec": {
      "name": "python3",
      "display_name": "Python 3"
    },
    "language_info": {
      "name": "python"
    }
  },
  "cells": [
    {
      "cell_type": "code",
      "execution_count": 1,
      "metadata": {
        "colab": {
          "base_uri": "https://localhost:8080/"
        },
        "id": "9LO61gXa6kPd",
        "outputId": "ed59a8a6-5471-4a6f-d30e-4cc32f4ed822"
      },
      "outputs": [
        {
          "output_type": "stream",
          "name": "stdout",
          "text": [
            "The player just earned 5 points\n"
          ]
        }
      ],
      "source": [
        "#Printing a message that the player earned 5 points for playing your game.\n",
        "alien_color='green'\n",
        "if alien_color is 'green':\n",
        "  print('The player just earned 5 points')"
      ]
    }
  ]
}
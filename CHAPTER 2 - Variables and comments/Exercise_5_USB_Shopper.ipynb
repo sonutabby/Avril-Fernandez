{
  "nbformat": 4,
  "nbformat_minor": 0,
  "metadata": {
    "colab": {
      "provenance": []
    },
    "kernelspec": {
      "name": "python3",
      "display_name": "Python 3"
    },
    "language_info": {
      "name": "python"
    }
  },
  "cells": [
    {
      "cell_type": "code",
      "execution_count": null,
      "metadata": {
        "colab": {
          "base_uri": "https://localhost:8080/"
        },
        "id": "0D5hTC_K7Tl2",
        "outputId": "2260ab7d-e962-4ea2-9b91-e16b03e271e7"
      },
      "outputs": [
        {
          "output_type": "stream",
          "name": "stdout",
          "text": [
            "A girl needs an USB she goes to the shop to buy one\n",
            "Girl: How much is the price of the USB?\n",
            "Salesman: the USBs price is $9\n",
            "Girl: Ill buy USB for $50\n",
            "The Salesman gives the girl 5 USBs and returns her 5$\n",
            "The Salesman gives the girl 5 USBs and returns her 5$\n"
          ]
        }
      ],
      "source": [
        "#Conversation between salesman and girl\n",
        "print('A girl needs an USB she goes to the shop to buy one\\nGirl: How much is the price of the USB?\\nSalesman: the USBs price is $9\\nGirl: I''ll buy USB for $50')\n",
        "Num_of_USB=50//9\n",
        "money_back=50%9\n",
        "print('The Salesman gives the girl '+str(Num_of_USB)+' USBs'+' and returns her '+str(money_back)+'$')\n",
        "print('The Salesman gives the girl '+str(50//9)+' USBs'+' and returns her '+str(50%9)+'$')"
      ]
    }
  ]
}
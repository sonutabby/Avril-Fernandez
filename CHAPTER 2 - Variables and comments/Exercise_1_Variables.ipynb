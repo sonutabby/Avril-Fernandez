{
  "nbformat": 4,
  "nbformat_minor": 0,
  "metadata": {
    "colab": {
      "provenance": [],
      "collapsed_sections": []
    },
    "kernelspec": {
      "name": "python3",
      "display_name": "Python 3"
    },
    "language_info": {
      "name": "python"
    }
  },
  "cells": [
    {
      "cell_type": "code",
      "execution_count": null,
      "metadata": {
        "colab": {
          "base_uri": "https://localhost:8080/"
        },
        "id": "dESgoATDyf12",
        "outputId": "5fe43671-2e6c-4093-ec7c-84d960958938"
      },
      "outputs": [
        {
          "output_type": "stream",
          "name": "stdout",
          "text": [
            "Please enter the side of square:\n",
            "69\n",
            "Side of the square= 69\n",
            "The area of a square with side 69 units= 4761 sq units\n"
          ]
        }
      ],
      "source": [
        "#use input() function to work with user defined variables\n",
        "print('Please enter the side of square:')\n",
        "side=int(input())\n",
        "print('Side of the square=' , side)\n",
        "print('The area of a square with side '+str(side) + ' units= '+str(side**2)+ ' sq units')"
      ]
    },
    {
      "cell_type": "code",
      "source": [
        "#use input() function to work with user defined variables\n",
        "PI=8.6969\n",
        "print('Please enter the radius of a circle')\n",
        "r=int(input())\n",
        "print('The area of a circle with radius is '+str(r) +' units=: '+str(PI*r**2)+' sq units')"
      ],
      "metadata": {
        "colab": {
          "base_uri": "https://localhost:8080/"
        },
        "id": "8ccW_IQ94L9U",
        "outputId": "7f472d2b-c6d4-4d4c-f680-8870bcd6e99e"
      },
      "execution_count": null,
      "outputs": [
        {
          "output_type": "stream",
          "name": "stdout",
          "text": [
            "Please enter the radius of a circle\n",
            "69\n",
            "The area of a circle with radius is 69 units=: 41405.940899999994 sq units\n"
          ]
        }
      ]
    }
  ]
}
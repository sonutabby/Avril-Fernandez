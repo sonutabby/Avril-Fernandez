{
  "nbformat": 4,
  "nbformat_minor": 0,
  "metadata": {
    "colab": {
      "provenance": [],
      "collapsed_sections": []
    },
    "kernelspec": {
      "name": "python3",
      "display_name": "Python 3"
    },
    "language_info": {
      "name": "python"
    }
  },
  "cells": [
    {
      "cell_type": "code",
      "execution_count": null,
      "metadata": {
        "colab": {
          "base_uri": "https://localhost:8080/"
        },
        "id": "QCuSd8mYvVqh",
        "outputId": "2b0da8ef-69ed-434c-cd04-e29dcac709a5"
      },
      "outputs": [
        {
          "output_type": "stream",
          "name": "stdout",
          "text": [
            "She is\tPretty\n",
            "\n",
            "\n",
            "Programming Languages: \n",
            "Gorgeous\n",
            "Pretty\n",
            "Attractive\n",
            "\n",
            "\n",
            "Programming Languanges:\n",
            "Gorgeous\tPretty\n",
            "\tBeautiful\n",
            "\tAttractive\n"
          ]
        }
      ],
      "source": [
        "#To add tab to your text, use the character combination \\t\n",
        "print(\"She is\\tPretty\")\n",
        "#to add a newline in a string, use the character combination \\n\n",
        "print(\"\\n\")\n",
        "print(\"Programming Languages: \\nGorgeous\\nPretty\\nAttractive\")\n",
        "print(\"\\n\")\n",
        "#fromatting using \\t and \\n\n",
        "print(\"Programming Languanges:\\nGorgeous\\tPretty\\n\\tBeautiful\\n\\tAttractive\")"
      ]
    },
    {
      "cell_type": "code",
      "source": [
        "#use of lstrip() function to remove spaces from left side of the string\n",
        "rhyme= '         The wheels on the bus go round and round'\n",
        "new_rhyme=rhyme.lstrip()\n",
        "print(rhyme)\n",
        "print(new_rhyme)"
      ],
      "metadata": {
        "colab": {
          "base_uri": "https://localhost:8080/"
        },
        "id": "C2XqIjdL0zMF",
        "outputId": "cf29be70-1140-43b6-a2b1-ca771c7d8891"
      },
      "execution_count": null,
      "outputs": [
        {
          "output_type": "stream",
          "name": "stdout",
          "text": [
            "         The wheels on the bus go round and round\n",
            "The wheels on the bus go round and round\n"
          ]
        }
      ]
    },
    {
      "cell_type": "code",
      "source": [
        "#use of rstrip() function to remove spaces from left side of the string\n",
        "quote= 'God is good all the time      '\n",
        "new_quote=quote.rstrip()\n",
        "print(quote)\n",
        "print(new_quote)"
      ],
      "metadata": {
        "colab": {
          "base_uri": "https://localhost:8080/"
        },
        "id": "3RKJF0CB2OAo",
        "outputId": "97281d15-29b0-4640-fadb-6b364cd68ec6"
      },
      "execution_count": null,
      "outputs": [
        {
          "output_type": "stream",
          "name": "stdout",
          "text": [
            "God is good all the time      \n",
            "God is good all the time\n"
          ]
        }
      ]
    },
    {
      "cell_type": "code",
      "source": [
        "#use of strip() function to remove the spaces from the beginning or end \n",
        "name= '              Abby                '\n",
        "new_name=name.strip()\n",
        "print(name)\n",
        "print(new_name)"
      ],
      "metadata": {
        "colab": {
          "base_uri": "https://localhost:8080/"
        },
        "id": "LvtMVSDa2Soe",
        "outputId": "4d8d804f-e636-494f-9ac5-6e6d6c5e3b97"
      },
      "execution_count": null,
      "outputs": [
        {
          "output_type": "stream",
          "name": "stdout",
          "text": [
            "              Abby                \n",
            "Abby\n"
          ]
        }
      ]
    }
  ]
}
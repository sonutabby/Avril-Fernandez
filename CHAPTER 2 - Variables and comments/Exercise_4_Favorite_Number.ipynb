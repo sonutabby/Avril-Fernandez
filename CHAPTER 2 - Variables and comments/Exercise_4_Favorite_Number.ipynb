{
  "nbformat": 4,
  "nbformat_minor": 0,
  "metadata": {
    "colab": {
      "provenance": []
    },
    "kernelspec": {
      "name": "python3",
      "display_name": "Python 3"
    },
    "language_info": {
      "name": "python"
    }
  },
  "cells": [
    {
      "cell_type": "code",
      "execution_count": null,
      "metadata": {
        "colab": {
          "base_uri": "https://localhost:8080/"
        },
        "id": "eHZhTtAr4yER",
        "outputId": "1db6e423-bd1f-40e5-a8ab-93f8db7229f4"
      },
      "outputs": [
        {
          "output_type": "stream",
          "name": "stdout",
          "text": [
            "Enter 2 numbers: \n",
            "69\n",
            "21\n",
            "The addition of 69 and 21 is 90\n",
            "The subtraction of 69 and 21 is 48\n",
            "The multiplication of 69 and 21 is 1449\n",
            "The division of 69 and 21 is 3.2857142857142856\n",
            "The modules of 69 and 21 is 6\n",
            "The power of 69 and 21 is 412886711384400964388332541673383612469\n"
          ]
        }
      ],
      "source": [
        "#get 2 numbers from the user\n",
        "print('Enter 2 numbers: ')\n",
        "a=int(input())\n",
        "b=int(input())\n",
        "\n",
        "#calculate and print the results\n",
        "print('The addition of '+str(a)+' and '+str(b)+' is '+str(a+b))\n",
        "print('The subtraction of '+str(a)+' and '+str(b)+' is '+str(a-b))\n",
        "print('The multiplication of '+str(a)+' and '+str(b)+' is '+str(a*b))\n",
        "print('The division of '+str(a)+' and '+str(b)+' is '+str(a/b))\n",
        "print('The modules of '+str(a)+' and '+str(b)+' is '+str(a%b))\n",
        "print('The power of '+str(a)+' and '+str(b)+' is '+str(a**b))"
      ]
    }
  ]
}
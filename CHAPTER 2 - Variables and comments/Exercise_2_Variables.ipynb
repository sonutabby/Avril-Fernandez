{
  "nbformat": 4,
  "nbformat_minor": 0,
  "metadata": {
    "colab": {
      "provenance": []
    },
    "kernelspec": {
      "name": "python3",
      "display_name": "Python 3"
    },
    "language_info": {
      "name": "python"
    }
  },
  "cells": [
    {
      "cell_type": "code",
      "execution_count": null,
      "metadata": {
        "colab": {
          "base_uri": "https://localhost:8080/"
        },
        "id": "Nh6uV5V15Fb_",
        "outputId": "035341ba-46d2-48d7-a1c5-3b0881b881d1"
      },
      "outputs": [
        {
          "output_type": "stream",
          "name": "stdout",
          "text": [
            "Albert Einstein once said, \"When the solution is simple, God is anwering\"\n"
          ]
        }
      ],
      "source": [
        "print('Albert Einstein once said, \"When the solution is simple, God is anwering\"')"
      ]
    }
  ]
}
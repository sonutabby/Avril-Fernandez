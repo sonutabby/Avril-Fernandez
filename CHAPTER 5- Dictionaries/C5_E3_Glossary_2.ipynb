{
  "nbformat": 4,
  "nbformat_minor": 0,
  "metadata": {
    "colab": {
      "provenance": [],
      "collapsed_sections": []
    },
    "kernelspec": {
      "name": "python3",
      "display_name": "Python 3"
    },
    "language_info": {
      "name": "python"
    }
  },
  "cells": [
    {
      "cell_type": "code",
      "execution_count": 1,
      "metadata": {
        "colab": {
          "base_uri": "https://localhost:8080/"
        },
        "id": "OuefU3q-69lN",
        "outputId": "921a9399-3d3d-4400-e39b-3a0c12818301"
      },
      "outputs": [
        {
          "output_type": "stream",
          "name": "stdout",
          "text": [
            "\n",
            "Str: A series of characters.\n",
            "\n",
            "Chr: Value to letter\n",
            "\n",
            "Ord: Letter to value\n",
            "\n",
            "Bin: Binary is a code, only come zero to one\n",
            "\n",
            "Sys: System\n",
            "\n",
            "Syn: Means grammar\n"
          ]
        }
      ],
      "source": [
        "#Replacing the series of print ()\n",
        "glossary = {\n",
        "    'str': 'A series of characters.',\n",
        "    'chr': 'Value to letter',\n",
        "    'ord': 'Letter to value',\n",
        "    'bin': 'Binary is a code, only come zero to one',\n",
        "    'sys': 'System',\n",
        "    'syn': 'Means grammar',\n",
        "    }\n",
        "\n",
        "for word, definition in glossary.items():\n",
        "    print(\"\\n\" + word.title() + \": \" + definition)"
      ]
    }
  ]
}
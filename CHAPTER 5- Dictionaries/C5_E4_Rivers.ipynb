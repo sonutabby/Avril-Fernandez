{
  "nbformat": 4,
  "nbformat_minor": 0,
  "metadata": {
    "colab": {
      "provenance": [],
      "collapsed_sections": []
    },
    "kernelspec": {
      "name": "python3",
      "display_name": "Python 3"
    },
    "language_info": {
      "name": "python"
    }
  },
  "cells": [
    {
      "cell_type": "code",
      "execution_count": 1,
      "metadata": {
        "colab": {
          "base_uri": "https://localhost:8080/"
        },
        "id": "L5Lrg-MT9tn3",
        "outputId": "9d3f68d3-fe97-46a9-93c3-ffbb9d7e468d"
      },
      "outputs": [
        {
          "output_type": "stream",
          "name": "stdout",
          "text": [
            "The Nile flows through Egypt.\n",
            "The Amazon flows through South America.\n",
            "The Yangtze flows through China.\n"
          ]
        }
      ],
      "source": [
        "#Creating a dictionary that lists the three largest rivers together with the nations they pass through. \n",
        "rivers = {'Nile':'Egypt','Amazon':'South America','Yangtze':'China'}\n",
        "for river, country in rivers.items():\n",
        "    print(\"The \" + river.title() + \" flows through \" + country.title() + \".\")"
      ]
    }
  ]
}
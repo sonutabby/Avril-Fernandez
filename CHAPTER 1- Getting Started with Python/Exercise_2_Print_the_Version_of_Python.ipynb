{
  "nbformat": 4,
  "nbformat_minor": 0,
  "metadata": {
    "colab": {
      "provenance": [],
      "collapsed_sections": []
    },
    "kernelspec": {
      "name": "python3",
      "display_name": "Python 3"
    },
    "language_info": {
      "name": "python"
    }
  },
  "cells": [
    {
      "cell_type": "code",
      "source": [
        "#Printing a Phyton program to know what version you are using\n",
        "import sys\n",
        "print (\"Phyton version\")\n",
        "print (sys.version)\n",
        "\n",
        "print(\"Version info\")\n",
        "print (sys.version_info)"
      ],
      "metadata": {
        "colab": {
          "base_uri": "https://localhost:8080/"
        },
        "id": "9FxnHe7lv2Yq",
        "outputId": "44b364e8-d4f5-4b7d-c8b6-598b65cc714f"
      },
      "execution_count": 1,
      "outputs": [
        {
          "output_type": "stream",
          "name": "stdout",
          "text": [
            "Phyton version\n",
            "3.7.15 (default, Oct 12 2022, 19:14:55) \n",
            "[GCC 7.5.0]\n",
            "Version info\n",
            "sys.version_info(major=3, minor=7, micro=15, releaselevel='final', serial=0)\n"
          ]
        }
      ]
    }
  ]
}
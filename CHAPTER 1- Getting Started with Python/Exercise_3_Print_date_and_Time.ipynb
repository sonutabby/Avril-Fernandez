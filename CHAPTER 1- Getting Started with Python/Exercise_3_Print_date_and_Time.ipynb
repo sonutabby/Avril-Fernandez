{
  "nbformat": 4,
  "nbformat_minor": 0,
  "metadata": {
    "colab": {
      "provenance": [],
      "collapsed_sections": []
    },
    "kernelspec": {
      "name": "python3",
      "display_name": "Python 3"
    },
    "language_info": {
      "name": "python"
    }
  },
  "cells": [
    {
      "cell_type": "code",
      "execution_count": 1,
      "metadata": {
        "colab": {
          "base_uri": "https://localhost:8080/"
        },
        "id": "-MCj5xP-zckm",
        "outputId": "23f35ee4-fc23-4b61-a2a8-67912bb75c7b"
      },
      "outputs": [
        {
          "output_type": "stream",
          "name": "stdout",
          "text": [
            "Today's date 2022-11-04\n",
            "day1 = 04/11/2022\n",
            "day2 = November 04, 2022\n",
            "day3 = 11/04/22\n",
            "day4 = Nov-04-2022\n"
          ]
        }
      ],
      "source": [
        "#Printing different types of dates in other order\n",
        "from datetime import date\n",
        "\n",
        "today = date.today()\n",
        "print(\"Today's date\" , today)\n",
        "\n",
        "# Printing date in order no.1 (dd/mm/YY)\n",
        "day1 = today.strftime(\"%d/%m/%Y\")\n",
        "print(\"day1 =\", day1)\n",
        "\n",
        "#Printing date in textual month, day and year\n",
        "day2 = today.strftime(\"%B %d, %Y\")\n",
        "print(\"day2 =\" , day2)\n",
        "\n",
        "#Printing date no.3 (mm/dd/y)\n",
        "day3 = today.strftime(\"%m/%d/%y\")\n",
        "print(\"day3 =\", day3)\n",
        "\n",
        "#Printing Month abbreviation, day and year\n",
        "day4 = today.strftime(\"%b-%d-%Y\")\n",
        "print(\"day4 =\", day4)\n"
      ]
    }
  ]
}
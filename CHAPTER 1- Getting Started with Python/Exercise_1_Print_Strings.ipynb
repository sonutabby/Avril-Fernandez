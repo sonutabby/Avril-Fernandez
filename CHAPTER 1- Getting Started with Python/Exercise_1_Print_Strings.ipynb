{
  "nbformat": 4,
  "nbformat_minor": 0,
  "metadata": {
    "colab": {
      "provenance": [],
      "collapsed_sections": []
    },
    "kernelspec": {
      "name": "python3",
      "display_name": "Python 3"
    },
    "language_info": {
      "name": "python"
    }
  },
  "cells": [
    {
      "cell_type": "code",
      "execution_count": 3,
      "metadata": {
        "colab": {
          "base_uri": "https://localhost:8080/"
        },
        "id": "M0kB4q5YJN1r",
        "outputId": "d0a352b6-46ee-4743-9abc-df1304c99b0c"
      },
      "outputs": [
        {
          "output_type": "stream",
          "name": "stdout",
          "text": [
            "Itsy bitsy spider went up the water spout\n",
            "Down came the rain and washed the spider out\n",
            "Out came the sun and dried up all the rain\n",
            "Then the itsy bitsy spider went up the spout again\n"
          ]
        }
      ],
      "source": [
        "#Writing a Phyton Program with strings using nursery rhymes\n",
        "print('Itsy bitsy spider went up the water spout')\n",
        "print('Down came the rain and washed the spider out')\n",
        "print('Out came the sun and dried up all the rain')\n",
        "print('Then the itsy bitsy spider went up the spout again')"
      ]
    }
  ]
}
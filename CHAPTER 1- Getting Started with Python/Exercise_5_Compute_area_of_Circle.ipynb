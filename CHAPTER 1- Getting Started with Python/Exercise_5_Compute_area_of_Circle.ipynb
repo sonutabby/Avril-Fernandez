{
  "nbformat": 4,
  "nbformat_minor": 0,
  "metadata": {
    "colab": {
      "provenance": []
    },
    "kernelspec": {
      "name": "python3",
      "display_name": "Python 3"
    },
    "language_info": {
      "name": "python"
    }
  },
  "cells": [
    {
      "cell_type": "code",
      "source": [
        "#Computing the area of an circle which accepts the radius of a circle from the user\n",
        "from math import pi \n",
        "r = float(input(\"Input the radius of the circle : \"))\n",
        "print (\"The area of the circle with radius\" + str(r) + \"is:\" + str(pi * r**2))"
      ],
      "metadata": {
        "colab": {
          "base_uri": "https://localhost:8080/"
        },
        "id": "VjcffbWEXMCh",
        "outputId": "c0dd85c5-68d4-4311-d44c-0ab72d649a72"
      },
      "execution_count": 1,
      "outputs": [
        {
          "output_type": "stream",
          "name": "stdout",
          "text": [
            "Input the radius of the circle : 80\n",
            "The area of the circle with radius80.0is:20106.192982974677\n"
          ]
        }
      ]
    }
  ]
}
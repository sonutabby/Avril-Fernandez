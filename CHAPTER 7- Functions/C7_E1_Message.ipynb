{
  "nbformat": 4,
  "nbformat_minor": 0,
  "metadata": {
    "colab": {
      "provenance": []
    },
    "kernelspec": {
      "name": "python3",
      "display_name": "Python 3"
    },
    "language_info": {
      "name": "python"
    }
  },
  "cells": [
    {
      "cell_type": "code",
      "execution_count": 1,
      "metadata": {
        "colab": {
          "base_uri": "https://localhost:8080/"
        },
        "id": "2RtgWS-kPMLf",
        "outputId": "8ad6e19e-8a0e-43ef-b686-ba5dfc0bd466"
      },
      "outputs": [
        {
          "output_type": "stream",
          "name": "stdout",
          "text": [
            "I'm learning functions in python\n"
          ]
        }
      ],
      "source": [
        "#Creating a function named display message() that produces a single statement\n",
        "def display_message():\n",
        "  message = \"I'm learning functions in python\"\n",
        "  print(message)\n",
        "\n",
        "display_message()"
      ]
    }
  ]
}
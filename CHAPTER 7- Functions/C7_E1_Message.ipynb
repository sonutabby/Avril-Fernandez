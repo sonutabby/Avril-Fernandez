{
  "nbformat": 4,
  "nbformat_minor": 0,
  "metadata": {
    "colab": {
      "provenance": []
    },
    "kernelspec": {
      "name": "python3",
      "display_name": "Python 3"
    },
    "language_info": {
      "name": "python"
    }
  },
  "cells": [
    {
      "cell_type": "code",
      "execution_count": 1,
      "metadata": {
        "colab": {
          "base_uri": "https://localhost:8080/"
        },
        "id": "2RtgWS-kPMLf",
        "outputId": "24d28401-eec6-4a38-abe9-45fbe9538dc7"
      },
      "outputs": [
        {
          "output_type": "stream",
          "name": "stdout",
          "text": [
            "I'm learning functions in python\n"
          ]
        }
      ],
      "source": [
        "def display_message():\n",
        "  message = \"I'm learning functions in python\"\n",
        "  print(message)\n",
        "\n",
        "display_message()"
      ]
    }
  ]
}
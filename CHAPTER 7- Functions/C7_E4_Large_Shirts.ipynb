{
  "nbformat": 4,
  "nbformat_minor": 0,
  "metadata": {
    "colab": {
      "provenance": [],
      "collapsed_sections": []
    },
    "kernelspec": {
      "name": "python3",
      "display_name": "Python 3"
    },
    "language_info": {
      "name": "python"
    }
  },
  "cells": [
    {
      "cell_type": "code",
      "execution_count": 1,
      "metadata": {
        "colab": {
          "base_uri": "https://localhost:8080/"
        },
        "id": "NL-Mqa-VR1YG",
        "outputId": "245f5af8-2f6b-49f5-c13e-92aecc251f00"
      },
      "outputs": [
        {
          "output_type": "stream",
          "name": "stdout",
          "text": [
            "\n",
            "I'm going to make a large t-shirt.\n",
            "That displays, \"I love Python\"\n",
            "\n",
            "I'm going to make a medium t-shirt.\n",
            "That displays, \"I love Python\"\n",
            "\n",
            "I'm going to make a small t-shirt.\n",
            "That displays, \"Kill them with kindness.\"\n"
          ]
        }
      ],
      "source": [
        "#Changing the I love Python message in the make shirt() function so that shirts are large by default.\n",
        "def make_shirt(size='large', message='I love Python'):\n",
        "    print(\"\\nI'm going to make a \" + size + \" t-shirt.\")\n",
        "    print('That displays, \"' + message + '\"')\n",
        "\n",
        "make_shirt()\n",
        "make_shirt(size='medium')\n",
        "make_shirt('small', 'Kill them with kindness.')"
      ]
    }
  ]
}
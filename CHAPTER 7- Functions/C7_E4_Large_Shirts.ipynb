{
  "nbformat": 4,
  "nbformat_minor": 0,
  "metadata": {
    "colab": {
      "provenance": []
    },
    "kernelspec": {
      "name": "python3",
      "display_name": "Python 3"
    },
    "language_info": {
      "name": "python"
    }
  },
  "cells": [
    {
      "cell_type": "code",
      "execution_count": 4,
      "metadata": {
        "colab": {
          "base_uri": "https://localhost:8080/"
        },
        "id": "NL-Mqa-VR1YG",
        "outputId": "27eb77bf-a94a-47e1-e7a0-0940344c6dd8"
      },
      "outputs": [
        {
          "output_type": "stream",
          "name": "stdout",
          "text": [
            "\n",
            "I'm going to make a large t-shirt.\n",
            "That displays, \"I love Python\"\n",
            "\n",
            "I'm going to make a medium t-shirt.\n",
            "That displays, \"I love Python\"\n",
            "\n",
            "I'm going to make a small t-shirt.\n",
            "That displays, \"Kill them with kindness.\"\n"
          ]
        }
      ],
      "source": [
        "def make_shirt(size='large', message='I love Python'):\n",
        "    print(\"\\nI'm going to make a \" + size + \" t-shirt.\")\n",
        "    print('That displays, \"' + message + '\"')\n",
        "\n",
        "make_shirt()\n",
        "make_shirt(size='medium')\n",
        "make_shirt('small', 'Kill them with kindness.')"
      ]
    }
  ]
}
{
  "nbformat": 4,
  "nbformat_minor": 0,
  "metadata": {
    "colab": {
      "provenance": []
    },
    "kernelspec": {
      "name": "python3",
      "display_name": "Python 3"
    },
    "language_info": {
      "name": "python"
    }
  },
  "cells": [
    {
      "cell_type": "code",
      "execution_count": 4,
      "metadata": {
        "colab": {
          "base_uri": "https://localhost:8080/"
        },
        "id": "86jYFFVXTWEo",
        "outputId": "3cff2248-6099-4389-82ec-46cb4e5349be"
      },
      "outputs": [
        {
          "output_type": "stream",
          "name": "stdout",
          "text": [
            "Tokyo is in Japan.\n",
            "Dubai is in United Arab Emirates.\n",
            "Yokohama is in Japan.\n"
          ]
        }
      ],
      "source": [
        "def describe_city(city, country='Japan'):\n",
        "    msg = city.title() + \" is in \" + country.title() + \".\"\n",
        "    print(msg)\n",
        "\n",
        "describe_city('Tokyo')\n",
        "describe_city('Dubai', 'United Arab Emirates')\n",
        "describe_city('Yokohama')"
      ]
    }
  ]
}
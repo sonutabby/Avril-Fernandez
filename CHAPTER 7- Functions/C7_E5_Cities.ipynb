{
  "nbformat": 4,
  "nbformat_minor": 0,
  "metadata": {
    "colab": {
      "provenance": [],
      "collapsed_sections": []
    },
    "kernelspec": {
      "name": "python3",
      "display_name": "Python 3"
    },
    "language_info": {
      "name": "python"
    }
  },
  "cells": [
    {
      "cell_type": "code",
      "execution_count": 1,
      "metadata": {
        "colab": {
          "base_uri": "https://localhost:8080/"
        },
        "id": "86jYFFVXTWEo",
        "outputId": "64b8454f-c26a-400a-f856-a60dcc5f1504"
      },
      "outputs": [
        {
          "output_type": "stream",
          "name": "stdout",
          "text": [
            "Tokyo is in Japan.\n",
            "Dubai is in United Arab Emirates.\n",
            "Yokohama is in Japan.\n"
          ]
        }
      ],
      "source": [
        "#Creating a function named describe city() that takes a city's name and its nation.\n",
        "def describe_city(city, country='Japan'):\n",
        "    msg = city.title() + \" is in \" + country.title() + \".\"\n",
        "    print(msg)\n",
        "\n",
        "describe_city('Tokyo')\n",
        "describe_city('Dubai', 'United Arab Emirates')\n",
        "describe_city('Yokohama')"
      ]
    }
  ]
}
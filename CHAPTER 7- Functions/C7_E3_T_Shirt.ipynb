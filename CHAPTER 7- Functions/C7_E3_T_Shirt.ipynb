{
  "nbformat": 4,
  "nbformat_minor": 0,
  "metadata": {
    "colab": {
      "provenance": []
    },
    "kernelspec": {
      "name": "python3",
      "display_name": "Python 3"
    },
    "language_info": {
      "name": "python"
    }
  },
  "cells": [
    {
      "cell_type": "code",
      "execution_count": 4,
      "metadata": {
        "colab": {
          "base_uri": "https://localhost:8080/"
        },
        "id": "LS-2Iw_JQFj1",
        "outputId": "1e97c048-1f0f-4c38-eff7-0be779cad759"
      },
      "outputs": [
        {
          "output_type": "stream",
          "name": "stdout",
          "text": [
            "\n",
            "I'm going to make a large t-shirt.\n",
            "That displays, \"Love Dubai\"\n",
            "\n",
            "I'm going to make a medium t-shirt.\n",
            "That displays, \"Such a CryBaby\"\n"
          ]
        }
      ],
      "source": [
        "def make_shirt(size, message):\n",
        "    print(\"\\nI'm going to make a \" + size + \" t-shirt.\")\n",
        "    print('That displays, \"' + message + '\"')\n",
        "\n",
        "make_shirt('large', 'Love Dubai')\n",
        "make_shirt(message=\"Such a CryBaby\", size='medium')"
      ]
    }
  ]
}
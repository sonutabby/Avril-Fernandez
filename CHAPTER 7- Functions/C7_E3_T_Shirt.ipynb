{
  "nbformat": 4,
  "nbformat_minor": 0,
  "metadata": {
    "colab": {
      "provenance": [],
      "collapsed_sections": []
    },
    "kernelspec": {
      "name": "python3",
      "display_name": "Python 3"
    },
    "language_info": {
      "name": "python"
    }
  },
  "cells": [
    {
      "cell_type": "code",
      "execution_count": 1,
      "metadata": {
        "colab": {
          "base_uri": "https://localhost:8080/"
        },
        "id": "LS-2Iw_JQFj1",
        "outputId": "5b7b69ff-33fb-414c-e087-67113b7cfddf"
      },
      "outputs": [
        {
          "output_type": "stream",
          "name": "stdout",
          "text": [
            "\n",
            "I'm going to make a large t-shirt.\n",
            "That displays, \"Love Dubai\"\n",
            "\n",
            "I'm going to make a medium t-shirt.\n",
            "That displays, \"Such a CryBaby\"\n"
          ]
        }
      ],
      "source": [
        "#Writting a function named make shirt() the size of the shirt and the message to be printed on it.\n",
        "def make_shirt(size, message):\n",
        "    print(\"\\nI'm going to make a \" + size + \" t-shirt.\")\n",
        "    print('That displays, \"' + message + '\"')\n",
        "\n",
        "make_shirt('large', 'Love Dubai')\n",
        "make_shirt(message=\"Such a CryBaby\", size='medium')"
      ]
    }
  ]
}
{
  "nbformat": 4,
  "nbformat_minor": 0,
  "metadata": {
    "colab": {
      "provenance": [],
      "collapsed_sections": []
    },
    "kernelspec": {
      "name": "python3",
      "display_name": "Python 3"
    },
    "language_info": {
      "name": "python"
    }
  },
  "cells": [
    {
      "cell_type": "code",
      "execution_count": 1,
      "metadata": {
        "colab": {
          "base_uri": "https://localhost:8080/"
        },
        "id": "CKKsnwH-PpNi",
        "outputId": "c206b7d7-fb1b-4477-fe6d-eae6a29210a6"
      },
      "outputs": [
        {
          "output_type": "stream",
          "name": "stdout",
          "text": [
            "Teen Clash is my favorite book\n"
          ]
        }
      ],
      "source": [
        "#favorite book\n",
        "#Creating a function named favorite book() that just takes the title as a parameter.\n",
        "def my_favorite_book(BKtitle):\n",
        "    print(BKtitle + \" is my favorite book\")\n",
        "\n",
        "my_favorite_book('Teen Clash')"
      ]
    }
  ]
}
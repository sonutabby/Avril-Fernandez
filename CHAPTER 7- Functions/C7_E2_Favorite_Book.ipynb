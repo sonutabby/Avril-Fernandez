{
  "nbformat": 4,
  "nbformat_minor": 0,
  "metadata": {
    "colab": {
      "provenance": []
    },
    "kernelspec": {
      "name": "python3",
      "display_name": "Python 3"
    },
    "language_info": {
      "name": "python"
    }
  },
  "cells": [
    {
      "cell_type": "code",
      "execution_count": 3,
      "metadata": {
        "colab": {
          "base_uri": "https://localhost:8080/"
        },
        "id": "CKKsnwH-PpNi",
        "outputId": "b118a69f-44d3-4ed2-e0ce-5f310fd5e8e1"
      },
      "outputs": [
        {
          "output_type": "stream",
          "name": "stdout",
          "text": [
            "Teen Clash is my favorite book\n"
          ]
        }
      ],
      "source": [
        "#favorite book\n",
        "def my_favorite_book(BKtitle):\n",
        "    print(BKtitle + \" is my favorite book\")\n",
        "\n",
        "my_favorite_book('Teen Clash')"
      ]
    }
  ]
}